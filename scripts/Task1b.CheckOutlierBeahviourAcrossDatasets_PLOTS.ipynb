{
 "cells": [
  {
   "cell_type": "markdown",
   "metadata": {},
   "source": [
    "### Script to\n",
    "1. get count of pairs with label DW/DNW/H/R per dataset\n",
    "2. get the %age of pairs which har H/R in one data while DNW in another in CCLE and GDSC\n",
    "3. Check if Hump and rising curves are outliers (to be removed) or is it the property of some dr/cl BY PLOTTING A CONTINGENCY TABLE to see how many pairs are H/R in both datastes \n",
    "4. Finding corr b/w ic50 for  pairs with atleast 1 H/R\n",
    "\n"
   ]
  },
  {
   "cell_type": "code",
   "execution_count": 1,
   "metadata": {},
   "outputs": [],
   "source": [
    "__author__ = 'Aanchal'"
   ]
  },
  {
   "cell_type": "code",
   "execution_count": 2,
   "metadata": {},
   "outputs": [],
   "source": [
    "import pandas as pd\n",
    "import numpy as np\n",
    "import FUNCTIONS as f\n",
    "import matplotlib.pyplot as plt\n",
    "from scipy.stats import chi2_contingency\n",
    "import FUNCTIONS as f\n",
    "\n",
    "import warnings\n",
    "warnings.filterwarnings('ignore')"
   ]
  },
  {
   "cell_type": "code",
   "execution_count": 3,
   "metadata": {},
   "outputs": [],
   "source": [
    "Intersection_ic50=pd.read_csv('../data_processed/CurveCategoryDetection/Intersection_withCurveCategory_SplitNormalUsingIC50_newformat.csv')\n"
   ]
  },
  {
   "cell_type": "code",
   "execution_count": 4,
   "metadata": {
    "scrolled": true
   },
   "outputs": [
    {
     "data": {
      "text/html": [
       "<div>\n",
       "<style scoped>\n",
       "    .dataframe tbody tr th:only-of-type {\n",
       "        vertical-align: middle;\n",
       "    }\n",
       "\n",
       "    .dataframe tbody tr th {\n",
       "        vertical-align: top;\n",
       "    }\n",
       "\n",
       "    .dataframe thead th {\n",
       "        text-align: right;\n",
       "    }\n",
       "</style>\n",
       "<table border=\"1\" class=\"dataframe\">\n",
       "  <thead>\n",
       "    <tr style=\"text-align: right;\">\n",
       "      <th></th>\n",
       "      <th>cell line name</th>\n",
       "      <th>drug name</th>\n",
       "      <th>ccle_category</th>\n",
       "      <th>gdsc_category</th>\n",
       "    </tr>\n",
       "  </thead>\n",
       "  <tbody>\n",
       "    <tr>\n",
       "      <th>0</th>\n",
       "      <td>KALS-1</td>\n",
       "      <td>Nutlin-3a</td>\n",
       "      <td>1.0</td>\n",
       "      <td>2.0</td>\n",
       "    </tr>\n",
       "    <tr>\n",
       "      <th>1</th>\n",
       "      <td>KALS-1</td>\n",
       "      <td>Tanespimycin</td>\n",
       "      <td>2.0</td>\n",
       "      <td>2.0</td>\n",
       "    </tr>\n",
       "    <tr>\n",
       "      <th>2</th>\n",
       "      <td>KALS-1</td>\n",
       "      <td>PLX-4720</td>\n",
       "      <td>1.0</td>\n",
       "      <td>2.0</td>\n",
       "    </tr>\n",
       "    <tr>\n",
       "      <th>3</th>\n",
       "      <td>KALS-1</td>\n",
       "      <td>PD0325901</td>\n",
       "      <td>2.0</td>\n",
       "      <td>2.0</td>\n",
       "    </tr>\n",
       "    <tr>\n",
       "      <th>4</th>\n",
       "      <td>KALS-1</td>\n",
       "      <td>Nilotinib</td>\n",
       "      <td>1.0</td>\n",
       "      <td>2.0</td>\n",
       "    </tr>\n",
       "    <tr>\n",
       "      <th>5</th>\n",
       "      <td>KALS-1</td>\n",
       "      <td>NVP-TAE684</td>\n",
       "      <td>2.0</td>\n",
       "      <td>2.0</td>\n",
       "    </tr>\n",
       "    <tr>\n",
       "      <th>6</th>\n",
       "      <td>KALS-1</td>\n",
       "      <td>Crizotinib</td>\n",
       "      <td>1.0</td>\n",
       "      <td>1.0</td>\n",
       "    </tr>\n",
       "    <tr>\n",
       "      <th>7</th>\n",
       "      <td>KALS-1</td>\n",
       "      <td>Saracatinib</td>\n",
       "      <td>1.0</td>\n",
       "      <td>2.0</td>\n",
       "    </tr>\n",
       "    <tr>\n",
       "      <th>8</th>\n",
       "      <td>KALS-1</td>\n",
       "      <td>PHA-665752</td>\n",
       "      <td>1.0</td>\n",
       "      <td>1.0</td>\n",
       "    </tr>\n",
       "    <tr>\n",
       "      <th>9</th>\n",
       "      <td>KALS-1</td>\n",
       "      <td>Paclitaxel</td>\n",
       "      <td>2.0</td>\n",
       "      <td>2.0</td>\n",
       "    </tr>\n",
       "    <tr>\n",
       "      <th>10</th>\n",
       "      <td>KALS-1</td>\n",
       "      <td>Erlotinib</td>\n",
       "      <td>1.0</td>\n",
       "      <td>1.0</td>\n",
       "    </tr>\n",
       "    <tr>\n",
       "      <th>11</th>\n",
       "      <td>KALS-1</td>\n",
       "      <td>Lapatinib</td>\n",
       "      <td>1.0</td>\n",
       "      <td>2.0</td>\n",
       "    </tr>\n",
       "    <tr>\n",
       "      <th>12</th>\n",
       "      <td>KALS-1</td>\n",
       "      <td>Sorafenib</td>\n",
       "      <td>1.0</td>\n",
       "      <td>1.0</td>\n",
       "    </tr>\n",
       "    <tr>\n",
       "      <th>13</th>\n",
       "      <td>KALS-1</td>\n",
       "      <td>Selumetinib</td>\n",
       "      <td>1.0</td>\n",
       "      <td>2.0</td>\n",
       "    </tr>\n",
       "    <tr>\n",
       "      <th>14</th>\n",
       "      <td>KALS-1</td>\n",
       "      <td>Panobinostat</td>\n",
       "      <td>2.0</td>\n",
       "      <td>2.0</td>\n",
       "    </tr>\n",
       "    <tr>\n",
       "      <th>15</th>\n",
       "      <td>SU8686</td>\n",
       "      <td>Nutlin-3a</td>\n",
       "      <td>1.0</td>\n",
       "      <td>1.0</td>\n",
       "    </tr>\n",
       "    <tr>\n",
       "      <th>16</th>\n",
       "      <td>SU8686</td>\n",
       "      <td>Tanespimycin</td>\n",
       "      <td>2.0</td>\n",
       "      <td>2.0</td>\n",
       "    </tr>\n",
       "    <tr>\n",
       "      <th>17</th>\n",
       "      <td>SU8686</td>\n",
       "      <td>PLX-4720</td>\n",
       "      <td>1.0</td>\n",
       "      <td>2.0</td>\n",
       "    </tr>\n",
       "    <tr>\n",
       "      <th>18</th>\n",
       "      <td>SU8686</td>\n",
       "      <td>Selumetinib</td>\n",
       "      <td>1.0</td>\n",
       "      <td>2.0</td>\n",
       "    </tr>\n",
       "    <tr>\n",
       "      <th>19</th>\n",
       "      <td>SU8686</td>\n",
       "      <td>Panobinostat</td>\n",
       "      <td>2.0</td>\n",
       "      <td>2.0</td>\n",
       "    </tr>\n",
       "    <tr>\n",
       "      <th>20</th>\n",
       "      <td>RERF-GC-1B</td>\n",
       "      <td>Nutlin-3a</td>\n",
       "      <td>1.0</td>\n",
       "      <td>2.0</td>\n",
       "    </tr>\n",
       "    <tr>\n",
       "      <th>21</th>\n",
       "      <td>RERF-GC-1B</td>\n",
       "      <td>Tanespimycin</td>\n",
       "      <td>2.0</td>\n",
       "      <td>1.0</td>\n",
       "    </tr>\n",
       "    <tr>\n",
       "      <th>22</th>\n",
       "      <td>RERF-GC-1B</td>\n",
       "      <td>PLX-4720</td>\n",
       "      <td>1.0</td>\n",
       "      <td>1.0</td>\n",
       "    </tr>\n",
       "    <tr>\n",
       "      <th>23</th>\n",
       "      <td>RERF-GC-1B</td>\n",
       "      <td>Nilotinib</td>\n",
       "      <td>1.0</td>\n",
       "      <td>2.0</td>\n",
       "    </tr>\n",
       "    <tr>\n",
       "      <th>24</th>\n",
       "      <td>RERF-GC-1B</td>\n",
       "      <td>Selumetinib</td>\n",
       "      <td>1.0</td>\n",
       "      <td>2.0</td>\n",
       "    </tr>\n",
       "    <tr>\n",
       "      <th>25</th>\n",
       "      <td>RERF-GC-1B</td>\n",
       "      <td>Panobinostat</td>\n",
       "      <td>2.0</td>\n",
       "      <td>2.0</td>\n",
       "    </tr>\n",
       "    <tr>\n",
       "      <th>26</th>\n",
       "      <td>PC-14</td>\n",
       "      <td>Nutlin-3a</td>\n",
       "      <td>1.0</td>\n",
       "      <td>4.0</td>\n",
       "    </tr>\n",
       "    <tr>\n",
       "      <th>27</th>\n",
       "      <td>PC-14</td>\n",
       "      <td>Tanespimycin</td>\n",
       "      <td>2.0</td>\n",
       "      <td>2.0</td>\n",
       "    </tr>\n",
       "    <tr>\n",
       "      <th>28</th>\n",
       "      <td>PC-14</td>\n",
       "      <td>PLX-4720</td>\n",
       "      <td>1.0</td>\n",
       "      <td>2.0</td>\n",
       "    </tr>\n",
       "    <tr>\n",
       "      <th>29</th>\n",
       "      <td>PC-14</td>\n",
       "      <td>Selumetinib</td>\n",
       "      <td>1.0</td>\n",
       "      <td>2.0</td>\n",
       "    </tr>\n",
       "    <tr>\n",
       "      <th>...</th>\n",
       "      <td>...</td>\n",
       "      <td>...</td>\n",
       "      <td>...</td>\n",
       "      <td>...</td>\n",
       "    </tr>\n",
       "    <tr>\n",
       "      <th>3705</th>\n",
       "      <td>NCI-H1341</td>\n",
       "      <td>Selumetinib</td>\n",
       "      <td>1.0</td>\n",
       "      <td>2.0</td>\n",
       "    </tr>\n",
       "    <tr>\n",
       "      <th>3706</th>\n",
       "      <td>NCI-H1341</td>\n",
       "      <td>Nutlin-3a</td>\n",
       "      <td>1.0</td>\n",
       "      <td>1.0</td>\n",
       "    </tr>\n",
       "    <tr>\n",
       "      <th>3707</th>\n",
       "      <td>NCI-H1341</td>\n",
       "      <td>Palbociclib</td>\n",
       "      <td>1.0</td>\n",
       "      <td>1.0</td>\n",
       "    </tr>\n",
       "    <tr>\n",
       "      <th>3708</th>\n",
       "      <td>NCI-H1341</td>\n",
       "      <td>PD0325901</td>\n",
       "      <td>1.0</td>\n",
       "      <td>2.0</td>\n",
       "    </tr>\n",
       "    <tr>\n",
       "      <th>3709</th>\n",
       "      <td>NCI-H1341</td>\n",
       "      <td>Tanespimycin</td>\n",
       "      <td>2.0</td>\n",
       "      <td>2.0</td>\n",
       "    </tr>\n",
       "    <tr>\n",
       "      <th>3710</th>\n",
       "      <td>NCI-H1341</td>\n",
       "      <td>PLX-4720</td>\n",
       "      <td>1.0</td>\n",
       "      <td>2.0</td>\n",
       "    </tr>\n",
       "    <tr>\n",
       "      <th>3711</th>\n",
       "      <td>NCI-H1341</td>\n",
       "      <td>Panobinostat</td>\n",
       "      <td>2.0</td>\n",
       "      <td>2.0</td>\n",
       "    </tr>\n",
       "    <tr>\n",
       "      <th>3712</th>\n",
       "      <td>Jurkat</td>\n",
       "      <td>Nilotinib</td>\n",
       "      <td>1.0</td>\n",
       "      <td>1.0</td>\n",
       "    </tr>\n",
       "    <tr>\n",
       "      <th>3713</th>\n",
       "      <td>Jurkat</td>\n",
       "      <td>Selumetinib</td>\n",
       "      <td>1.0</td>\n",
       "      <td>1.0</td>\n",
       "    </tr>\n",
       "    <tr>\n",
       "      <th>3714</th>\n",
       "      <td>Jurkat</td>\n",
       "      <td>Nutlin-3a</td>\n",
       "      <td>1.0</td>\n",
       "      <td>2.0</td>\n",
       "    </tr>\n",
       "    <tr>\n",
       "      <th>3715</th>\n",
       "      <td>Jurkat</td>\n",
       "      <td>Palbociclib</td>\n",
       "      <td>2.0</td>\n",
       "      <td>2.0</td>\n",
       "    </tr>\n",
       "    <tr>\n",
       "      <th>3716</th>\n",
       "      <td>Jurkat</td>\n",
       "      <td>PD0325901</td>\n",
       "      <td>1.0</td>\n",
       "      <td>2.0</td>\n",
       "    </tr>\n",
       "    <tr>\n",
       "      <th>3717</th>\n",
       "      <td>Jurkat</td>\n",
       "      <td>Tanespimycin</td>\n",
       "      <td>2.0</td>\n",
       "      <td>2.0</td>\n",
       "    </tr>\n",
       "    <tr>\n",
       "      <th>3718</th>\n",
       "      <td>Jurkat</td>\n",
       "      <td>PLX-4720</td>\n",
       "      <td>2.0</td>\n",
       "      <td>1.0</td>\n",
       "    </tr>\n",
       "    <tr>\n",
       "      <th>3719</th>\n",
       "      <td>Jurkat</td>\n",
       "      <td>Panobinostat</td>\n",
       "      <td>2.0</td>\n",
       "      <td>2.0</td>\n",
       "    </tr>\n",
       "    <tr>\n",
       "      <th>3720</th>\n",
       "      <td>KMS-11</td>\n",
       "      <td>Nilotinib</td>\n",
       "      <td>2.0</td>\n",
       "      <td>1.0</td>\n",
       "    </tr>\n",
       "    <tr>\n",
       "      <th>3721</th>\n",
       "      <td>KMS-11</td>\n",
       "      <td>Selumetinib</td>\n",
       "      <td>1.0</td>\n",
       "      <td>2.0</td>\n",
       "    </tr>\n",
       "    <tr>\n",
       "      <th>3722</th>\n",
       "      <td>KMS-11</td>\n",
       "      <td>Nutlin-3a</td>\n",
       "      <td>1.0</td>\n",
       "      <td>2.0</td>\n",
       "    </tr>\n",
       "    <tr>\n",
       "      <th>3723</th>\n",
       "      <td>KMS-11</td>\n",
       "      <td>Palbociclib</td>\n",
       "      <td>2.0</td>\n",
       "      <td>1.0</td>\n",
       "    </tr>\n",
       "    <tr>\n",
       "      <th>3724</th>\n",
       "      <td>KMS-11</td>\n",
       "      <td>PD0325901</td>\n",
       "      <td>1.0</td>\n",
       "      <td>2.0</td>\n",
       "    </tr>\n",
       "    <tr>\n",
       "      <th>3725</th>\n",
       "      <td>KMS-11</td>\n",
       "      <td>Tanespimycin</td>\n",
       "      <td>2.0</td>\n",
       "      <td>2.0</td>\n",
       "    </tr>\n",
       "    <tr>\n",
       "      <th>3726</th>\n",
       "      <td>KMS-11</td>\n",
       "      <td>PLX-4720</td>\n",
       "      <td>1.0</td>\n",
       "      <td>1.0</td>\n",
       "    </tr>\n",
       "    <tr>\n",
       "      <th>3727</th>\n",
       "      <td>KMS-11</td>\n",
       "      <td>Panobinostat</td>\n",
       "      <td>2.0</td>\n",
       "      <td>2.0</td>\n",
       "    </tr>\n",
       "    <tr>\n",
       "      <th>3728</th>\n",
       "      <td>SK-MEL-31</td>\n",
       "      <td>Nilotinib</td>\n",
       "      <td>2.0</td>\n",
       "      <td>1.0</td>\n",
       "    </tr>\n",
       "    <tr>\n",
       "      <th>3729</th>\n",
       "      <td>SK-MEL-31</td>\n",
       "      <td>Selumetinib</td>\n",
       "      <td>1.0</td>\n",
       "      <td>1.0</td>\n",
       "    </tr>\n",
       "    <tr>\n",
       "      <th>3730</th>\n",
       "      <td>SK-MEL-31</td>\n",
       "      <td>Nutlin-3a</td>\n",
       "      <td>1.0</td>\n",
       "      <td>2.0</td>\n",
       "    </tr>\n",
       "    <tr>\n",
       "      <th>3731</th>\n",
       "      <td>SK-MEL-31</td>\n",
       "      <td>Palbociclib</td>\n",
       "      <td>1.0</td>\n",
       "      <td>1.0</td>\n",
       "    </tr>\n",
       "    <tr>\n",
       "      <th>3732</th>\n",
       "      <td>SK-MEL-31</td>\n",
       "      <td>PD0325901</td>\n",
       "      <td>1.0</td>\n",
       "      <td>2.0</td>\n",
       "    </tr>\n",
       "    <tr>\n",
       "      <th>3733</th>\n",
       "      <td>SK-MEL-31</td>\n",
       "      <td>Tanespimycin</td>\n",
       "      <td>1.0</td>\n",
       "      <td>2.0</td>\n",
       "    </tr>\n",
       "    <tr>\n",
       "      <th>3734</th>\n",
       "      <td>SK-MEL-31</td>\n",
       "      <td>PLX-4720</td>\n",
       "      <td>1.0</td>\n",
       "      <td>2.0</td>\n",
       "    </tr>\n",
       "  </tbody>\n",
       "</table>\n",
       "<p>3735 rows × 4 columns</p>\n",
       "</div>"
      ],
      "text/plain": [
       "     cell line name     drug name  ccle_category  gdsc_category\n",
       "0            KALS-1     Nutlin-3a            1.0            2.0\n",
       "1            KALS-1  Tanespimycin            2.0            2.0\n",
       "2            KALS-1      PLX-4720            1.0            2.0\n",
       "3            KALS-1     PD0325901            2.0            2.0\n",
       "4            KALS-1     Nilotinib            1.0            2.0\n",
       "5            KALS-1    NVP-TAE684            2.0            2.0\n",
       "6            KALS-1    Crizotinib            1.0            1.0\n",
       "7            KALS-1   Saracatinib            1.0            2.0\n",
       "8            KALS-1    PHA-665752            1.0            1.0\n",
       "9            KALS-1    Paclitaxel            2.0            2.0\n",
       "10           KALS-1     Erlotinib            1.0            1.0\n",
       "11           KALS-1     Lapatinib            1.0            2.0\n",
       "12           KALS-1     Sorafenib            1.0            1.0\n",
       "13           KALS-1   Selumetinib            1.0            2.0\n",
       "14           KALS-1  Panobinostat            2.0            2.0\n",
       "15           SU8686     Nutlin-3a            1.0            1.0\n",
       "16           SU8686  Tanespimycin            2.0            2.0\n",
       "17           SU8686      PLX-4720            1.0            2.0\n",
       "18           SU8686   Selumetinib            1.0            2.0\n",
       "19           SU8686  Panobinostat            2.0            2.0\n",
       "20       RERF-GC-1B     Nutlin-3a            1.0            2.0\n",
       "21       RERF-GC-1B  Tanespimycin            2.0            1.0\n",
       "22       RERF-GC-1B      PLX-4720            1.0            1.0\n",
       "23       RERF-GC-1B     Nilotinib            1.0            2.0\n",
       "24       RERF-GC-1B   Selumetinib            1.0            2.0\n",
       "25       RERF-GC-1B  Panobinostat            2.0            2.0\n",
       "26            PC-14     Nutlin-3a            1.0            4.0\n",
       "27            PC-14  Tanespimycin            2.0            2.0\n",
       "28            PC-14      PLX-4720            1.0            2.0\n",
       "29            PC-14   Selumetinib            1.0            2.0\n",
       "...             ...           ...            ...            ...\n",
       "3705      NCI-H1341   Selumetinib            1.0            2.0\n",
       "3706      NCI-H1341     Nutlin-3a            1.0            1.0\n",
       "3707      NCI-H1341   Palbociclib            1.0            1.0\n",
       "3708      NCI-H1341     PD0325901            1.0            2.0\n",
       "3709      NCI-H1341  Tanespimycin            2.0            2.0\n",
       "3710      NCI-H1341      PLX-4720            1.0            2.0\n",
       "3711      NCI-H1341  Panobinostat            2.0            2.0\n",
       "3712         Jurkat     Nilotinib            1.0            1.0\n",
       "3713         Jurkat   Selumetinib            1.0            1.0\n",
       "3714         Jurkat     Nutlin-3a            1.0            2.0\n",
       "3715         Jurkat   Palbociclib            2.0            2.0\n",
       "3716         Jurkat     PD0325901            1.0            2.0\n",
       "3717         Jurkat  Tanespimycin            2.0            2.0\n",
       "3718         Jurkat      PLX-4720            2.0            1.0\n",
       "3719         Jurkat  Panobinostat            2.0            2.0\n",
       "3720         KMS-11     Nilotinib            2.0            1.0\n",
       "3721         KMS-11   Selumetinib            1.0            2.0\n",
       "3722         KMS-11     Nutlin-3a            1.0            2.0\n",
       "3723         KMS-11   Palbociclib            2.0            1.0\n",
       "3724         KMS-11     PD0325901            1.0            2.0\n",
       "3725         KMS-11  Tanespimycin            2.0            2.0\n",
       "3726         KMS-11      PLX-4720            1.0            1.0\n",
       "3727         KMS-11  Panobinostat            2.0            2.0\n",
       "3728      SK-MEL-31     Nilotinib            2.0            1.0\n",
       "3729      SK-MEL-31   Selumetinib            1.0            1.0\n",
       "3730      SK-MEL-31     Nutlin-3a            1.0            2.0\n",
       "3731      SK-MEL-31   Palbociclib            1.0            1.0\n",
       "3732      SK-MEL-31     PD0325901            1.0            2.0\n",
       "3733      SK-MEL-31  Tanespimycin            1.0            2.0\n",
       "3734      SK-MEL-31      PLX-4720            1.0            2.0\n",
       "\n",
       "[3735 rows x 4 columns]"
      ]
     },
     "execution_count": 4,
     "metadata": {},
     "output_type": "execute_result"
    }
   ],
   "source": [
    "Intersection_ic50"
   ]
  },
  {
   "cell_type": "markdown",
   "metadata": {},
   "source": [
    "#### 1. get count of pairs with label DW/DNW/H/R per dataset"
   ]
  },
  {
   "cell_type": "code",
   "execution_count": 5,
   "metadata": {},
   "outputs": [
    {
     "data": {
      "text/plain": [
       "1.0    2022\n",
       "2.0    1629\n",
       "4.0      60\n",
       "3.0      24\n",
       "Name: ccle_category, dtype: int64"
      ]
     },
     "execution_count": 5,
     "metadata": {},
     "output_type": "execute_result"
    }
   ],
   "source": [
    "#3 categories new\n",
    "Intersection_ic50['ccle_category'].value_counts()"
   ]
  },
  {
   "cell_type": "code",
   "execution_count": 6,
   "metadata": {},
   "outputs": [
    {
     "data": {
      "text/plain": [
       "2.0    2596\n",
       "1.0    1015\n",
       "4.0      88\n",
       "3.0      36\n",
       "Name: gdsc_category, dtype: int64"
      ]
     },
     "execution_count": 6,
     "metadata": {},
     "output_type": "execute_result"
    }
   ],
   "source": [
    "#using IC50 new\n",
    "Intersection_ic50['gdsc_category'].value_counts()"
   ]
  },
  {
   "cell_type": "markdown",
   "metadata": {},
   "source": [
    "#### 2. To get the %age of pairs which har H/R in one data while DNW in another in CCLE and GDSC"
   ]
  },
  {
   "cell_type": "code",
   "execution_count": 7,
   "metadata": {},
   "outputs": [
    {
     "name": "stdout",
     "output_type": "stream",
     "text": [
      "perc_hNdnw=0.33\n",
      "perc_rNdnw=0.53\n",
      "perc_hNdnw=0.89\n",
      "perc_rNdnw=0.78\n"
     ]
    }
   ],
   "source": [
    "#ccle\n",
    "noh=len( Intersection_ic50.loc [ (Intersection_ic50['ccle_category']==3) ] )\n",
    "nor=len( Intersection_ic50.loc [ (Intersection_ic50['ccle_category']==4) ] )\n",
    "hNdnw=len( Intersection_ic50.loc [ (Intersection_ic50['ccle_category']==3) & (Intersection_ic50['gdsc_category']==1)  ] )\n",
    "rNdnw=len( Intersection_ic50.loc [ (Intersection_ic50['ccle_category']==4) & (Intersection_ic50['gdsc_category']==1)  ])\n",
    "print(\"perc_hNdnw=\"+str(round(hNdnw/noh,2))) #old 82.35\n",
    "print(\"perc_rNdnw=\"+str(round(rNdnw/nor,2))) #old 88.67\n",
    "\n",
    "\n",
    "#gdsc\n",
    "noh=len( Intersection_ic50.loc [ (Intersection_ic50['gdsc_category']==3) ] )\n",
    "nor=len( Intersection_ic50.loc [ (Intersection_ic50['gdsc_category']==4) ] )\n",
    "hNdnw=len( Intersection_ic50.loc [ (Intersection_ic50['gdsc_category']==3) & (Intersection_ic50['ccle_category']==1)  ] )\n",
    "rNdnw=len( Intersection_ic50.loc [ (Intersection_ic50['gdsc_category']==4) & (Intersection_ic50['ccle_category']==1)  ])\n",
    "print(\"perc_hNdnw=\"+str(round(hNdnw/noh,2))) #old 90.32\n",
    "print(\"perc_rNdnw=\"+str(round(rNdnw/nor,2))) #old 81.81\n"
   ]
  },
  {
   "cell_type": "markdown",
   "metadata": {},
   "source": [
    "#### 3. Check if Hump and rising curves are outliers (to be removed) or is it the property of some dr/cl BY PLOTTING A CONTINGENCY TABLE to see how many pairs are H/R in both datastes "
   ]
  },
  {
   "cell_type": "markdown",
   "metadata": {},
   "source": [
    "##### CONTINGENCY MATRIX- Along rows: CCLE, Along cols: GDSE (slightly diff from before bcz label 2 (DW) given only to pairs which have label 1 (DW o DNW) and not to either of 1/3/4)"
   ]
  },
  {
   "cell_type": "code",
   "execution_count": 8,
   "metadata": {},
   "outputs": [
    {
     "name": "stdout",
     "output_type": "stream",
     "text": [
      "Confusion matrix, without normalization\n",
      "[[ 818 1103   32   69]\n",
      " [ 157 1453    4   15]\n",
      " [   8   13    0    3]\n",
      " [  32   27    0    1]]\n"
     ]
    },
    {
     "data": {
      "image/png": "[encoded data removed]",
      "text/plain": [
       "<Figure size 432x288 with 2 Axes>"
      ]
     },
     "metadata": {
      "needs_background": "light"
     },
     "output_type": "display_data"
    }
   ],
   "source": [
    "from sklearn.metrics import confusion_matrix\n",
    "\n",
    "np.set_printoptions(precision=2)\n",
    "# Plot non-normalized confusion matrix\n",
    "f.plot_confusion_matrix(Intersection_ic50['ccle_category'],Intersection_ic50['gdsc_category'],classes=[1,2,3,4])\n",
    "\n",
    "\n",
    "plt.savefig('../figures/CheckOutlierBeahviourAcrossDatasets/contingency_matrix.svg')\n",
    "plt.savefig('../figures/CheckOutlierBeahviourAcrossDatasets/contingency_matrix.png')\n",
    "plt.show()"
   ]
  },
  {
   "cell_type": "code",
   "execution_count": 11,
   "metadata": {},
   "outputs": [
    {
     "data": {
      "text/html": [
       "<div>\n",
       "<style scoped>\n",
       "    .dataframe tbody tr th:only-of-type {\n",
       "        vertical-align: middle;\n",
       "    }\n",
       "\n",
       "    .dataframe tbody tr th {\n",
       "        vertical-align: top;\n",
       "    }\n",
       "\n",
       "    .dataframe thead th {\n",
       "        text-align: right;\n",
       "    }\n",
       "</style>\n",
       "<table border=\"1\" class=\"dataframe\">\n",
       "  <thead>\n",
       "    <tr style=\"text-align: right;\">\n",
       "      <th></th>\n",
       "      <th>cell line name</th>\n",
       "      <th>drug name</th>\n",
       "      <th>ccle_category</th>\n",
       "      <th>gdsc_category</th>\n",
       "    </tr>\n",
       "  </thead>\n",
       "  <tbody>\n",
       "    <tr>\n",
       "      <th>309</th>\n",
       "      <td>769-P</td>\n",
       "      <td>PLX-4720</td>\n",
       "      <td>3.0</td>\n",
       "      <td>2.0</td>\n",
       "    </tr>\n",
       "    <tr>\n",
       "      <th>508</th>\n",
       "      <td>NCI-H1581</td>\n",
       "      <td>PLX-4720</td>\n",
       "      <td>3.0</td>\n",
       "      <td>2.0</td>\n",
       "    </tr>\n",
       "    <tr>\n",
       "      <th>534</th>\n",
       "      <td>NCI-H1693</td>\n",
       "      <td>Selumetinib</td>\n",
       "      <td>3.0</td>\n",
       "      <td>2.0</td>\n",
       "    </tr>\n",
       "    <tr>\n",
       "      <th>597</th>\n",
       "      <td>NCI-H1299</td>\n",
       "      <td>PLX-4720</td>\n",
       "      <td>3.0</td>\n",
       "      <td>2.0</td>\n",
       "    </tr>\n",
       "    <tr>\n",
       "      <th>961</th>\n",
       "      <td>SW780</td>\n",
       "      <td>PLX-4720</td>\n",
       "      <td>3.0</td>\n",
       "      <td>2.0</td>\n",
       "    </tr>\n",
       "    <tr>\n",
       "      <th>1049</th>\n",
       "      <td>G-402</td>\n",
       "      <td>PLX-4720</td>\n",
       "      <td>3.0</td>\n",
       "      <td>2.0</td>\n",
       "    </tr>\n",
       "    <tr>\n",
       "      <th>1372</th>\n",
       "      <td>NCI-H1869</td>\n",
       "      <td>Palbociclib</td>\n",
       "      <td>3.0</td>\n",
       "      <td>2.0</td>\n",
       "    </tr>\n",
       "    <tr>\n",
       "      <th>1412</th>\n",
       "      <td>HPAC</td>\n",
       "      <td>PLX-4720</td>\n",
       "      <td>3.0</td>\n",
       "      <td>2.0</td>\n",
       "    </tr>\n",
       "    <tr>\n",
       "      <th>2476</th>\n",
       "      <td>NCI-H1975</td>\n",
       "      <td>PLX-4720</td>\n",
       "      <td>3.0</td>\n",
       "      <td>2.0</td>\n",
       "    </tr>\n",
       "    <tr>\n",
       "      <th>2518</th>\n",
       "      <td>NCI-H1092</td>\n",
       "      <td>Nilotinib</td>\n",
       "      <td>3.0</td>\n",
       "      <td>2.0</td>\n",
       "    </tr>\n",
       "    <tr>\n",
       "      <th>3002</th>\n",
       "      <td>NCI-H1694</td>\n",
       "      <td>Lapatinib</td>\n",
       "      <td>3.0</td>\n",
       "      <td>2.0</td>\n",
       "    </tr>\n",
       "    <tr>\n",
       "      <th>3495</th>\n",
       "      <td>GRANTA-519</td>\n",
       "      <td>Sorafenib</td>\n",
       "      <td>3.0</td>\n",
       "      <td>2.0</td>\n",
       "    </tr>\n",
       "    <tr>\n",
       "      <th>3498</th>\n",
       "      <td>GRANTA-519</td>\n",
       "      <td>Nutlin-3a</td>\n",
       "      <td>3.0</td>\n",
       "      <td>2.0</td>\n",
       "    </tr>\n",
       "  </tbody>\n",
       "</table>\n",
       "</div>"
      ],
      "text/plain": [
       "     cell line name    drug name  ccle_category  gdsc_category\n",
       "309           769-P     PLX-4720            3.0            2.0\n",
       "508       NCI-H1581     PLX-4720            3.0            2.0\n",
       "534       NCI-H1693  Selumetinib            3.0            2.0\n",
       "597       NCI-H1299     PLX-4720            3.0            2.0\n",
       "961           SW780     PLX-4720            3.0            2.0\n",
       "1049          G-402     PLX-4720            3.0            2.0\n",
       "1372      NCI-H1869  Palbociclib            3.0            2.0\n",
       "1412           HPAC     PLX-4720            3.0            2.0\n",
       "2476      NCI-H1975     PLX-4720            3.0            2.0\n",
       "2518      NCI-H1092    Nilotinib            3.0            2.0\n",
       "3002      NCI-H1694    Lapatinib            3.0            2.0\n",
       "3495     GRANTA-519    Sorafenib            3.0            2.0\n",
       "3498     GRANTA-519    Nutlin-3a            3.0            2.0"
      ]
     },
     "execution_count": 11,
     "metadata": {},
     "output_type": "execute_result"
    }
   ],
   "source": [
    "a= Intersection_ic50[(Intersection_ic50['ccle_category']==3) & (Intersection_ic50['gdsc_category']==2)]\n",
    "a"
   ]
  },
  {
   "cell_type": "code",
   "execution_count": 9,
   "metadata": {},
   "outputs": [
    {
     "data": {
      "text/html": [
       "<div>\n",
       "<style scoped>\n",
       "    .dataframe tbody tr th:only-of-type {\n",
       "        vertical-align: middle;\n",
       "    }\n",
       "\n",
       "    .dataframe tbody tr th {\n",
       "        vertical-align: top;\n",
       "    }\n",
       "\n",
       "    .dataframe thead th {\n",
       "        text-align: right;\n",
       "    }\n",
       "</style>\n",
       "<table border=\"1\" class=\"dataframe\">\n",
       "  <thead>\n",
       "    <tr style=\"text-align: right;\">\n",
       "      <th>gdsc_category</th>\n",
       "      <th>1.0</th>\n",
       "      <th>2.0</th>\n",
       "      <th>3.0</th>\n",
       "      <th>4.0</th>\n",
       "    </tr>\n",
       "    <tr>\n",
       "      <th>ccle_category</th>\n",
       "      <th></th>\n",
       "      <th></th>\n",
       "      <th></th>\n",
       "      <th></th>\n",
       "    </tr>\n",
       "  </thead>\n",
       "  <tbody>\n",
       "    <tr>\n",
       "      <th>1.0</th>\n",
       "      <td>818</td>\n",
       "      <td>1103</td>\n",
       "      <td>32</td>\n",
       "      <td>69</td>\n",
       "    </tr>\n",
       "    <tr>\n",
       "      <th>2.0</th>\n",
       "      <td>157</td>\n",
       "      <td>1453</td>\n",
       "      <td>4</td>\n",
       "      <td>15</td>\n",
       "    </tr>\n",
       "    <tr>\n",
       "      <th>3.0</th>\n",
       "      <td>8</td>\n",
       "      <td>13</td>\n",
       "      <td>0</td>\n",
       "      <td>3</td>\n",
       "    </tr>\n",
       "    <tr>\n",
       "      <th>4.0</th>\n",
       "      <td>32</td>\n",
       "      <td>27</td>\n",
       "      <td>0</td>\n",
       "      <td>1</td>\n",
       "    </tr>\n",
       "  </tbody>\n",
       "</table>\n",
       "</div>"
      ],
      "text/plain": [
       "gdsc_category  1.0   2.0  3.0  4.0\n",
       "ccle_category                     \n",
       "1.0            818  1103   32   69\n",
       "2.0            157  1453    4   15\n",
       "3.0              8    13    0    3\n",
       "4.0             32    27    0    1"
      ]
     },
     "execution_count": 9,
     "metadata": {},
     "output_type": "execute_result"
    }
   ],
   "source": [
    "table=pd.crosstab(Intersection_ic50['ccle_category'],Intersection_ic50['gdsc_category'])\n",
    "table"
   ]
  },
  {
   "cell_type": "code",
   "execution_count": 10,
   "metadata": {},
   "outputs": [
    {
     "data": {
      "text/plain": [
       "1.353438033191414e-111"
      ]
     },
     "execution_count": 10,
     "metadata": {},
     "output_type": "execute_result"
    }
   ],
   "source": [
    "[chi2,p,dof,expected]=chi2_contingency(table)\n",
    "p"
   ]
  },
  {
   "cell_type": "code",
   "execution_count": 33,
   "metadata": {},
   "outputs": [
    {
     "data": {
      "text/plain": [
       "3735"
      ]
     },
     "execution_count": 33,
     "metadata": {},
     "output_type": "execute_result"
    }
   ],
   "source": [
    "len(Intersection_ic50)"
   ]
  },
  {
   "cell_type": "markdown",
   "metadata": {},
   "source": [
    "#### 4. Finding corr b/w ic50 for  pairs with atleast 1 H/R"
   ]
  },
  {
   "cell_type": "code",
   "execution_count": 19,
   "metadata": {},
   "outputs": [],
   "source": [
    "sample_col_name=\"cell line name\"\n",
    "drug_col_name=\"drug name\"\n"
   ]
  },
  {
   "cell_type": "code",
   "execution_count": 34,
   "metadata": {},
   "outputs": [
    {
     "data": {
      "text/html": [
       "<div>\n",
       "<style scoped>\n",
       "    .dataframe tbody tr th:only-of-type {\n",
       "        vertical-align: middle;\n",
       "    }\n",
       "\n",
       "    .dataframe tbody tr th {\n",
       "        vertical-align: top;\n",
       "    }\n",
       "\n",
       "    .dataframe thead th {\n",
       "        text-align: right;\n",
       "    }\n",
       "</style>\n",
       "<table border=\"1\" class=\"dataframe\">\n",
       "  <thead>\n",
       "    <tr style=\"text-align: right;\">\n",
       "      <th>gdsc_category</th>\n",
       "      <th>1.0</th>\n",
       "      <th>2.0</th>\n",
       "      <th>4.0</th>\n",
       "    </tr>\n",
       "    <tr>\n",
       "      <th>ccle_category</th>\n",
       "      <th></th>\n",
       "      <th></th>\n",
       "      <th></th>\n",
       "    </tr>\n",
       "  </thead>\n",
       "  <tbody>\n",
       "    <tr>\n",
       "      <th>1.0</th>\n",
       "      <td>0</td>\n",
       "      <td>0</td>\n",
       "      <td>69</td>\n",
       "    </tr>\n",
       "    <tr>\n",
       "      <th>2.0</th>\n",
       "      <td>0</td>\n",
       "      <td>0</td>\n",
       "      <td>15</td>\n",
       "    </tr>\n",
       "    <tr>\n",
       "      <th>3.0</th>\n",
       "      <td>0</td>\n",
       "      <td>0</td>\n",
       "      <td>3</td>\n",
       "    </tr>\n",
       "    <tr>\n",
       "      <th>4.0</th>\n",
       "      <td>32</td>\n",
       "      <td>27</td>\n",
       "      <td>1</td>\n",
       "    </tr>\n",
       "  </tbody>\n",
       "</table>\n",
       "</div>"
      ],
      "text/plain": [
       "gdsc_category  1.0  2.0  4.0\n",
       "ccle_category               \n",
       "1.0              0    0   69\n",
       "2.0              0    0   15\n",
       "3.0              0    0    3\n",
       "4.0             32   27    1"
      ]
     },
     "execution_count": 34,
     "metadata": {},
     "output_type": "execute_result"
    }
   ],
   "source": [
    "shapeno=3 #hump 60/3735 pairs with atleast 1 hump (earlier 44/3004)\n",
    "shapeno=4 #rising 147/3735 pairs with atelast 1 rising (earlier 114/3004)\n",
    "\n",
    "\n",
    "df= Intersection_ic50[(Intersection_ic50['ccle_category']==shapeno) | (Intersection_ic50['gdsc_category']==shapeno)]\n",
    "#df=df[(df['ccle_category']==1) | (df['gdsc_category']==1)]\n",
    "df\n",
    "table=pd.crosstab(df['ccle_category'],df['gdsc_category'])\n",
    "(table)"
   ]
  },
  {
   "cell_type": "code",
   "execution_count": 35,
   "metadata": {
    "scrolled": true
   },
   "outputs": [
    {
     "data": {
      "text/plain": [
       "2.439097276991727e-28"
      ]
     },
     "execution_count": 35,
     "metadata": {},
     "output_type": "execute_result"
    }
   ],
   "source": [
    "[chi2,p,dof,expected]=chi2_contingency(table)\n",
    "p"
   ]
  },
  {
   "cell_type": "code",
   "execution_count": 36,
   "metadata": {},
   "outputs": [
    {
     "data": {
      "text/plain": [
       "147"
      ]
     },
     "execution_count": 36,
     "metadata": {},
     "output_type": "execute_result"
    }
   ],
   "source": [
    "len(df)"
   ]
  },
  {
   "cell_type": "code",
   "execution_count": 37,
   "metadata": {},
   "outputs": [],
   "source": [
    "df=df.rename(columns={'Cell_line_name':'Standard cell line name','Drug _Name':'Standard drug name'})  \n",
    "[dic_cl_ccle,dic_dr_ccle]=f.getDictionary('CCLE',1)\n",
    "df=df.replace(dic_cl_ccle)\n",
    "df=df.replace(dic_dr_ccle)\n",
    "df\n",
    "df['_label']=0*len(df)"
   ]
  },
  {
   "cell_type": "code",
   "execution_count": 38,
   "metadata": {
    "scrolled": true
   },
   "outputs": [
    {
     "data": {
      "text/plain": [
       "\"if (shapeno==3):\\n    f.copyPastePlots('../figures/FittedCurves_commonPairs_plots_without5dosageDrugs/', '../figures/CheckOutlierBeahviourAcrossDatasets/FittedCurves_commonPairs_atleast1hump_plots/', '', '','', 0, df)\\nelif(shapeno==4):    \\n    f.copyPastePlots('../figures/FittedCurves_commonPairs_plots_without5dosageDrugs/', '../figures/CheckOutlierBeahviourAcrossDatasets/FittedCurves_commonPairs_atleast1rising_plots/', '', '','', 0, df)\""
      ]
     },
     "execution_count": 38,
     "metadata": {},
     "output_type": "execute_result"
    }
   ],
   "source": [
    "'''if (shapeno==3):\n",
    "    f.copyPastePlots('../figures/FittedCurves_commonPairs_plots_without5dosageDrugs/', '../figures/CheckOutlierBeahviourAcrossDatasets/FittedCurves_commonPairs_atleast1hump_plots/', '', '','', 0, df)\n",
    "elif(shapeno==4):    \n",
    "    f.copyPastePlots('../figures/FittedCurves_commonPairs_plots_without5dosageDrugs/', '../figures/CheckOutlierBeahviourAcrossDatasets/FittedCurves_commonPairs_atleast1rising_plots/', '', '','', 0, df)'''"
   ]
  },
  {
   "cell_type": "code",
   "execution_count": 39,
   "metadata": {
    "scrolled": true
   },
   "outputs": [
    {
     "data": {
      "image/png": "[encoded data removed]",
      "text/plain": [
       "<Figure size 432x288 with 1 Axes>"
      ]
     },
     "metadata": {
      "needs_background": "light"
     },
     "output_type": "display_data"
    }
   ],
   "source": [
    "df=f.get_ic50s_asFeatures(df, sample_col_name, drug_col_name)\n",
    "\n",
    "f.plotVectorsGetCorr_seaborn('IC50_CCLE','IC50_GDSC1',df,'spearman' ,[],14)\n",
    "\n",
    "if (shapeno==3):\n",
    "    plt.savefig('../figures/CheckOutlierBeahviourAcrossDatasets/atleast1hump_ic50gdsc_vs_ic50ccle.svg')\n",
    "    plt.savefig('../figures/CheckOutlierBeahviourAcrossDatasets/atleast1hump_ic50gdsc_vs_ic50ccle.png')\n",
    "elif(shapeno==4):\n",
    "    plt.savefig('../figures/CheckOutlierBeahviourAcrossDatasets/atleast1rising_ic50gdsc_vs_ic50ccle.svg')\n",
    "    plt.savefig('../figures/CheckOutlierBeahviourAcrossDatasets/atleast1rising_ic50gdsc_vs_ic50ccle.png')\n",
    "plt.show()"
   ]
  },
  {
   "cell_type": "code",
   "execution_count": 21,
   "metadata": {},
   "outputs": [
    {
     "data": {
      "text/plain": [
       "<Figure size 432x288 with 0 Axes>"
      ]
     },
     "metadata": {},
     "output_type": "display_data"
    }
   ],
   "source": []
  },
  {
   "cell_type": "code",
   "execution_count": 32,
   "metadata": {
    "scrolled": true
   },
   "outputs": [
    {
     "data": {
      "text/plain": [
       "147"
      ]
     },
     "execution_count": 32,
     "metadata": {},
     "output_type": "execute_result"
    }
   ],
   "source": [
    "len(df)"
   ]
  },
  {
   "cell_type": "markdown",
   "metadata": {},
   "source": [
    "#### To count the common pairs showing similar behaviour (hump or rising) in both datasets"
   ]
  },
  {
   "cell_type": "code",
   "execution_count": 27,
   "metadata": {},
   "outputs": [
    {
     "data": {
      "text/html": [
       "<div>\n",
       "<style scoped>\n",
       "    .dataframe tbody tr th:only-of-type {\n",
       "        vertical-align: middle;\n",
       "    }\n",
       "\n",
       "    .dataframe tbody tr th {\n",
       "        vertical-align: top;\n",
       "    }\n",
       "\n",
       "    .dataframe thead th {\n",
       "        text-align: right;\n",
       "    }\n",
       "</style>\n",
       "<table border=\"1\" class=\"dataframe\">\n",
       "  <thead>\n",
       "    <tr style=\"text-align: right;\">\n",
       "      <th>gdsc_category</th>\n",
       "      <th>0.0</th>\n",
       "      <th>1.0</th>\n",
       "    </tr>\n",
       "    <tr>\n",
       "      <th>ccle_category</th>\n",
       "      <th></th>\n",
       "      <th></th>\n",
       "    </tr>\n",
       "  </thead>\n",
       "  <tbody>\n",
       "    <tr>\n",
       "      <th>0.0</th>\n",
       "      <td>4</td>\n",
       "      <td>80</td>\n",
       "    </tr>\n",
       "    <tr>\n",
       "      <th>1.0</th>\n",
       "      <td>120</td>\n",
       "      <td>3531</td>\n",
       "    </tr>\n",
       "  </tbody>\n",
       "</table>\n",
       "</div>"
      ],
      "text/plain": [
       "gdsc_category  0.0   1.0\n",
       "ccle_category           \n",
       "0.0              4    80\n",
       "1.0            120  3531"
      ]
     },
     "execution_count": 27,
     "metadata": {},
     "output_type": "execute_result"
    }
   ],
   "source": [
    "table=pd.crosstab(Intersection_ic50['ccle_category'].replace({3:0,4:0, 2:1}),Intersection_ic50['gdsc_category'].replace({3:0,4:0,  2:1}))\n",
    "table"
   ]
  },
  {
   "cell_type": "code",
   "execution_count": 28,
   "metadata": {},
   "outputs": [
    {
     "data": {
      "text/plain": [
       "0.6613052215497751"
      ]
     },
     "execution_count": 28,
     "metadata": {},
     "output_type": "execute_result"
    }
   ],
   "source": [
    "[chi2,p,dof,expected]=chi2_contingency(table)\n",
    "p"
   ]
  },
  {
   "cell_type": "markdown",
   "metadata": {},
   "source": [
    "###### **uses input generated from scripts which use dose response files in new format "
   ]
  },
  {
   "cell_type": "code",
   "execution_count": null,
   "metadata": {},
   "outputs": [],
   "source": []
  },
  {
   "cell_type": "code",
   "execution_count": null,
   "metadata": {},
   "outputs": [],
   "source": []
  }
 ],
 "metadata": {
  "kernelspec": {
   "display_name": "Python 3",
   "language": "python",
   "name": "python3"
  },
  "language_info": {
   "codemirror_mode": {
    "name": "ipython",
    "version": 3
   },
   "file_extension": ".py",
   "mimetype": "text/x-python",
   "name": "python",
   "nbconvert_exporter": "python",
   "pygments_lexer": "ipython3",
   "version": "3.6.2"
  }
 },
 "nbformat": 4,
 "nbformat_minor": 2
}
