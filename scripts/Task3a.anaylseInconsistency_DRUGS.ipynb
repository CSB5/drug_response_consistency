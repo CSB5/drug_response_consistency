{
 "cells": [
  {
   "cell_type": "markdown",
   "metadata": {},
   "source": [
    "### Script to\n",
    "1. get dosage range overlap across datasets, dosage range in GDSC andother metdata for each drug for analysis"
   ]
  },
  {
   "cell_type": "code",
   "execution_count": 1,
   "metadata": {},
   "outputs": [],
   "source": [
    "__author__ = 'Aanchal'"
   ]
  },
  {
   "cell_type": "code",
   "execution_count": 2,
   "metadata": {},
   "outputs": [],
   "source": [
    "import pandas as pd\n",
    "import FUNCTIONS as f\n",
    "import matplotlib.pyplot as plt\n",
    "import numpy as np\n",
    "\n",
    "import warnings\n",
    "warnings.filterwarnings('ignore')"
   ]
  },
  {
   "cell_type": "code",
   "execution_count": 20,
   "metadata": {},
   "outputs": [],
   "source": [
    "impClsOnly=1"
   ]
  },
  {
   "cell_type": "code",
   "execution_count": 21,
   "metadata": {},
   "outputs": [],
   "source": [
    "plotting_df=pd.DataFrame();"
   ]
  },
  {
   "cell_type": "markdown",
   "metadata": {},
   "source": [
    "#### fetch dosage overlap"
   ]
  },
  {
   "cell_type": "code",
   "execution_count": 22,
   "metadata": {
    "scrolled": true
   },
   "outputs": [],
   "source": [
    "dr_metadata= f.get_common_drugs_metadata(\"../data/metadata_2019_08_15_aanchal.xlsx\", \"common_drugs\")\n",
    "\n",
    "plotting_df['Standard drug name']=dr_metadata['Standard drug name']\n",
    "plotting_df['dosage range overlap']=dr_metadata['dosage range overlap']\n",
    "plotting_df['GDSC dosage length']=dr_metadata['GDSC dosage length']\n",
    "plotting_df['GDSC min dosage']=dr_metadata['GDSC min dosage']\n",
    "plotting_df['GDSC max dosage']=dr_metadata['GDSC max dosage']"
   ]
  },
  {
   "cell_type": "markdown",
   "metadata": {},
   "source": [
    "## INITIALIZATION "
   ]
  },
  {
   "cell_type": "code",
   "execution_count": 23,
   "metadata": {},
   "outputs": [],
   "source": [
    "FeatureMatrix=pd.read_csv('../data_processed/FittedCurvesCommonPairs_features/Feature_Matrix_FLatPerDrugFitting_15features.csv') # #Normalized_outliersCapped\n",
    "\n",
    "FeatureMatrix=FeatureMatrix[['Standard cell line name','Standard drug name','IS','mae_fitness','ic50_mode','m_mode','log2(max_dosage_bothDatasets)']]\n",
    "\n",
    "pair_dosages=pd.read_csv('../data_processed/GDSC_pair_dosage_range.csv').sort_values('Standard cell line name')\n",
    "FeatureMatrix=pd.merge(FeatureMatrix, pair_dosages,on=['Standard cell line name','Standard drug name']) "
   ]
  },
  {
   "cell_type": "code",
   "execution_count": null,
   "metadata": {},
   "outputs": [],
   "source": []
  },
  {
   "cell_type": "code",
   "execution_count": null,
   "metadata": {},
   "outputs": [],
   "source": []
  },
  {
   "cell_type": "code",
   "execution_count": 24,
   "metadata": {
    "scrolled": true
   },
   "outputs": [
    {
     "name": "stdout",
     "output_type": "stream",
     "text": [
      "mu, sigma, Amp for 2 modes=> [  3.11407597   2.40712364 200.193668    10.19748103   1.65014358\n",
      " 135.71820865]\n",
      "Th=mu+std of 1st gaussian pofile: 7.063382706349541\n"
     ]
    },
    {
     "data": {
      "image/png": "[encoded data removed]",
      "text/plain": [
       "<Figure size 432x288 with 1 Axes>"
      ]
     },
     "metadata": {
      "needs_background": "light"
     },
     "output_type": "display_data"
    }
   ],
   "source": [
    "from pylab import hist\n",
    "'''hist(FeatureMatrix['ic50_mode'] , bins=100) #FeatureMatrix['IS'] #FeatureMatrix['m_mode']\n",
    "plt.title('Distribution of ic50_mode for all pairs')\n",
    "plt.xlabel('value of ic50_mode')\n",
    "plt.ylabel('# pairs')\n",
    "plt.show()'''\n",
    "#temp=df[df['sensitivity_calls_ic50_label']==1]\n",
    "#hist(temp['ic50_mode'] , bins=100)\n",
    "\n",
    "[mus,stds, params,xh,yh] = f.fit_mixtureOfGaussians(FeatureMatrix[['ic50_mode']],[2.5,5,130,  10,5,60])\n",
    "\n",
    "#st_ind=np.where(params==max(mus))\n",
    "th=mus[0]+2*stds[0] #not using anymore since both the dsitributions mus tbe used to separate the 2 modes..not just 1\n",
    "\n",
    "th= f.split_bimodal(xh, f.bimodal(xh,params[0],params[1],params[2],params[3],params[4],params[5])  ,mus)[0]\n",
    "\n",
    "plt.axvline(x=mus[0], color='g', linestyle='--', label='mu1')\n",
    "plt.axvline(x=mus[1], color='g', linestyle='--', label='mu2')\n",
    "plt.axvline(x=th ,color='k', linestyle='--', label='threshold')\n",
    "plt.xlabel('IC50_mode')\n",
    "plt.ylabel('# Pairs')\n",
    "plt.title('chosen threshold to separate resistant pairs='+str( th.round(2)) )\n",
    "print(\"Th=mu+std of 1st gaussian pofile:\", th)\n",
    "plt.savefig('../figures/InconsistencyFactorAnalysis/IC50_mode_distibution.svg')"
   ]
  },
  {
   "cell_type": "code",
   "execution_count": 25,
   "metadata": {},
   "outputs": [],
   "source": [
    "FeatureMatrix['Sensitivity_basedOnIC50th'] = np.where(FeatureMatrix['ic50_mode']> th, 1, 0)"
   ]
  },
  {
   "cell_type": "code",
   "execution_count": 26,
   "metadata": {},
   "outputs": [
    {
     "data": {
      "text/plain": [
       "7.063382706349541"
      ]
     },
     "execution_count": 26,
     "metadata": {},
     "output_type": "execute_result"
    }
   ],
   "source": [
    "th"
   ]
  },
  {
   "cell_type": "code",
   "execution_count": 27,
   "metadata": {},
   "outputs": [],
   "source": [
    "\n",
    "#filter Cls which havent been tested for all drugs\n",
    "if(impClsOnly==1):\n",
    "    all_cls=FeatureMatrix.groupby(FeatureMatrix['Standard cell line name']).count()[['Standard drug name']]\n",
    "    FeatureMatrix_impcls=FeatureMatrix.loc[FeatureMatrix['Standard cell line name'].isin(all_cls[all_cls['Standard drug name']==15].index)]\n",
    "else:\n",
    "    FeatureMatrix_impcls=FeatureMatrix\n",
    "\n",
    "#filter resistant Cls\n",
    "FeatureMatrix_sensitivePairs=FeatureMatrix_impcls[FeatureMatrix_impcls['ic50_mode']<=th]\n",
    "\n",
    "#get mean IS\n",
    "drug_wise_mean=FeatureMatrix_sensitivePairs.groupby('Standard drug name')['Standard drug name','IS'].mean() #takes med of all cols\n",
    "drug_wise_mean.rename(columns={'IS': 'mean IS'}, inplace=True)\n",
    "\n",
    "\n",
    "#get median IS\n",
    "drug_wise_median=FeatureMatrix_sensitivePairs.groupby('Standard drug name')['Standard drug name','IS','ic50_mode'].median() #takes med of all cols\n",
    "drug_wise_median.rename(columns={'IS': 'median IS', 'ic50_mode': 'median ic50_mode'}, inplace=True)\n",
    "\n",
    "AAA_matrix=FeatureMatrix_sensitivePairs\n",
    "AAA_matrix=AAA_matrix.set_index('Standard drug name')"
   ]
  },
  {
   "cell_type": "code",
   "execution_count": 28,
   "metadata": {},
   "outputs": [
    {
     "data": {
      "text/plain": [
       "675"
      ]
     },
     "execution_count": 28,
     "metadata": {},
     "output_type": "execute_result"
    }
   ],
   "source": [
    "len(FeatureMatrix_sensitivePairs)"
   ]
  },
  {
   "cell_type": "code",
   "execution_count": 29,
   "metadata": {},
   "outputs": [],
   "source": [
    "#df=FeatureMatrix_sensitivePairs.groupby(FeatureMatrix_sensitivePairs['Standard drug name']).agg({'Sensitivity_basedOnIC50nMaxDosage': [sum, \"count\"]})#['Standard drug name','Sensitivity'].describe()#.count()#.size()#.unstack()\n",
    "#df['fraction_resistant_CLs']=df['Sensitivity_basedOnIC50nMaxDosage']['sum']/df['Sensitivity_basedOnIC50nMaxDosage']['count']#['Sensitivity'][['sum']]#df['%age resistant CLs']=df['Standard drug name']\n",
    "#Sensitivity_basedOnIC50th shud be used to find fraction of resistant cls\n",
    "\n",
    "plotting_df['mean IS']=drug_wise_mean['mean IS']\n",
    "plotting_df['median IS']=drug_wise_median['median IS']\n",
    "plotting_df['median ic50_mode']=drug_wise_median['median ic50_mode']\n",
    "plotting_df['#total CLs']=FeatureMatrix.groupby('Standard drug name').count()['Standard cell line name']\n",
    "plotting_df['#CLs tested for all']=FeatureMatrix_impcls.groupby('Standard drug name').count()['Standard cell line name']\n",
    "plotting_df['#sensitive CLs']=FeatureMatrix_sensitivePairs.groupby('Standard drug name').count()['Standard cell line name']\n",
    "\n",
    "plotting_df['Target Pathway']=dr_metadata['Target Pathway']"
   ]
  },
  {
   "cell_type": "code",
   "execution_count": 30,
   "metadata": {},
   "outputs": [],
   "source": [
    "###plotting_df=AAA_matrix.merge(plotting_df,left_index=True, right_index=True)"
   ]
  },
  {
   "cell_type": "code",
   "execution_count": 31,
   "metadata": {},
   "outputs": [],
   "source": [
    "if(impClsOnly==1):\n",
    "    plotting_df.to_csv('../data_processed/InconsistencyFactorAnalysis/drug_analysis_onlySensitiveCLs_testedFor15drugs.csv')\n",
    "else:\n",
    "    plotting_df.to_csv('../data_processed/InconsistencyFactorAnalysis/drug_analysis_onlySensitiveCLs.csv') "
   ]
  },
  {
   "cell_type": "code",
   "execution_count": 32,
   "metadata": {
    "scrolled": true
   },
   "outputs": [
    {
     "data": {
      "text/html": [
       "<div>\n",
       "<style scoped>\n",
       "    .dataframe tbody tr th:only-of-type {\n",
       "        vertical-align: middle;\n",
       "    }\n",
       "\n",
       "    .dataframe tbody tr th {\n",
       "        vertical-align: top;\n",
       "    }\n",
       "\n",
       "    .dataframe thead th {\n",
       "        text-align: right;\n",
       "    }\n",
       "</style>\n",
       "<table border=\"1\" class=\"dataframe\">\n",
       "  <thead>\n",
       "    <tr style=\"text-align: right;\">\n",
       "      <th></th>\n",
       "      <th>Standard drug name</th>\n",
       "      <th>dosage range overlap</th>\n",
       "      <th>GDSC dosage length</th>\n",
       "      <th>GDSC min dosage</th>\n",
       "      <th>GDSC max dosage</th>\n",
       "      <th>mean IS</th>\n",
       "      <th>median IS</th>\n",
       "      <th>median ic50_mode</th>\n",
       "      <th>#total CLs</th>\n",
       "      <th>#CLs tested for all</th>\n",
       "      <th>#sensitive CLs</th>\n",
       "      <th>Target Pathway</th>\n",
       "    </tr>\n",
       "    <tr>\n",
       "      <th>name</th>\n",
       "      <th></th>\n",
       "      <th></th>\n",
       "      <th></th>\n",
       "      <th></th>\n",
       "      <th></th>\n",
       "      <th></th>\n",
       "      <th></th>\n",
       "      <th></th>\n",
       "      <th></th>\n",
       "      <th></th>\n",
       "      <th></th>\n",
       "      <th></th>\n",
       "    </tr>\n",
       "  </thead>\n",
       "  <tbody>\n",
       "    <tr>\n",
       "      <th>Crizotinib</th>\n",
       "      <td>Crizotinib</td>\n",
       "      <td>8.000000</td>\n",
       "      <td>8.0</td>\n",
       "      <td>-7.000000</td>\n",
       "      <td>1.000000</td>\n",
       "      <td>0.113579</td>\n",
       "      <td>0.104483</td>\n",
       "      <td>2.798528</td>\n",
       "      <td>111</td>\n",
       "      <td>66</td>\n",
       "      <td>57</td>\n",
       "      <td>RTK signaling</td>\n",
       "    </tr>\n",
       "    <tr>\n",
       "      <th>Erlotinib</th>\n",
       "      <td>Erlotinib</td>\n",
       "      <td>8.000000</td>\n",
       "      <td>8.0</td>\n",
       "      <td>-7.000000</td>\n",
       "      <td>1.000000</td>\n",
       "      <td>0.104502</td>\n",
       "      <td>0.093517</td>\n",
       "      <td>3.684525</td>\n",
       "      <td>97</td>\n",
       "      <td>66</td>\n",
       "      <td>34</td>\n",
       "      <td>EGFR signaling</td>\n",
       "    </tr>\n",
       "    <tr>\n",
       "      <th>Lapatinib</th>\n",
       "      <td>Lapatinib</td>\n",
       "      <td>8.000000</td>\n",
       "      <td>8.0</td>\n",
       "      <td>-7.000000</td>\n",
       "      <td>1.000000</td>\n",
       "      <td>0.111668</td>\n",
       "      <td>0.102102</td>\n",
       "      <td>3.160882</td>\n",
       "      <td>104</td>\n",
       "      <td>66</td>\n",
       "      <td>44</td>\n",
       "      <td>EGFR signaling</td>\n",
       "    </tr>\n",
       "    <tr>\n",
       "      <th>NVP-TAE684</th>\n",
       "      <td>NVP-TAE684</td>\n",
       "      <td>8.000000</td>\n",
       "      <td>8.0</td>\n",
       "      <td>-7.000000</td>\n",
       "      <td>1.000000</td>\n",
       "      <td>0.158247</td>\n",
       "      <td>0.145354</td>\n",
       "      <td>1.236829</td>\n",
       "      <td>111</td>\n",
       "      <td>66</td>\n",
       "      <td>58</td>\n",
       "      <td>RTK signaling</td>\n",
       "    </tr>\n",
       "    <tr>\n",
       "      <th>Nilotinib</th>\n",
       "      <td>Nilotinib</td>\n",
       "      <td>8.000000</td>\n",
       "      <td>8.0</td>\n",
       "      <td>-7.000000</td>\n",
       "      <td>1.000000</td>\n",
       "      <td>0.119039</td>\n",
       "      <td>0.111031</td>\n",
       "      <td>2.913680</td>\n",
       "      <td>253</td>\n",
       "      <td>66</td>\n",
       "      <td>47</td>\n",
       "      <td>ABL signaling</td>\n",
       "    </tr>\n",
       "    <tr>\n",
       "      <th>Nutlin-3a</th>\n",
       "      <td>Nutlin-3a</td>\n",
       "      <td>8.000000</td>\n",
       "      <td>8.0</td>\n",
       "      <td>-5.000000</td>\n",
       "      <td>3.000000</td>\n",
       "      <td>0.103574</td>\n",
       "      <td>0.096268</td>\n",
       "      <td>3.630165</td>\n",
       "      <td>330</td>\n",
       "      <td>66</td>\n",
       "      <td>27</td>\n",
       "      <td>p53 pathway</td>\n",
       "    </tr>\n",
       "    <tr>\n",
       "      <th>PD0325901</th>\n",
       "      <td>PD0325901</td>\n",
       "      <td>6.643856</td>\n",
       "      <td>8.0</td>\n",
       "      <td>-10.000000</td>\n",
       "      <td>-2.000000</td>\n",
       "      <td>0.169005</td>\n",
       "      <td>0.156612</td>\n",
       "      <td>1.715962</td>\n",
       "      <td>326</td>\n",
       "      <td>66</td>\n",
       "      <td>43</td>\n",
       "      <td>ERK MAPK signaling</td>\n",
       "    </tr>\n",
       "    <tr>\n",
       "      <th>PHA-665752</th>\n",
       "      <td>PHA-665752</td>\n",
       "      <td>8.000000</td>\n",
       "      <td>8.0</td>\n",
       "      <td>-7.000000</td>\n",
       "      <td>1.000000</td>\n",
       "      <td>0.099693</td>\n",
       "      <td>0.088355</td>\n",
       "      <td>3.426608</td>\n",
       "      <td>111</td>\n",
       "      <td>66</td>\n",
       "      <td>47</td>\n",
       "      <td>RTK signaling</td>\n",
       "    </tr>\n",
       "    <tr>\n",
       "      <th>PLX-4720</th>\n",
       "      <td>PLX-4720</td>\n",
       "      <td>7.678072</td>\n",
       "      <td>8.0</td>\n",
       "      <td>-4.678072</td>\n",
       "      <td>3.321928</td>\n",
       "      <td>0.094246</td>\n",
       "      <td>0.085146</td>\n",
       "      <td>5.391576</td>\n",
       "      <td>322</td>\n",
       "      <td>66</td>\n",
       "      <td>17</td>\n",
       "      <td>ERK MAPK signaling</td>\n",
       "    </tr>\n",
       "    <tr>\n",
       "      <th>Paclitaxel</th>\n",
       "      <td>Paclitaxel</td>\n",
       "      <td>5.356144</td>\n",
       "      <td>8.0</td>\n",
       "      <td>-11.287712</td>\n",
       "      <td>-3.287712</td>\n",
       "      <td>0.219389</td>\n",
       "      <td>0.222481</td>\n",
       "      <td>-4.787388</td>\n",
       "      <td>107</td>\n",
       "      <td>66</td>\n",
       "      <td>66</td>\n",
       "      <td>Mitosis</td>\n",
       "    </tr>\n",
       "    <tr>\n",
       "      <th>Palbociclib</th>\n",
       "      <td>Palbociclib</td>\n",
       "      <td>8.000000</td>\n",
       "      <td>8.0</td>\n",
       "      <td>-6.000000</td>\n",
       "      <td>2.000000</td>\n",
       "      <td>0.163515</td>\n",
       "      <td>0.161882</td>\n",
       "      <td>3.168589</td>\n",
       "      <td>271</td>\n",
       "      <td>66</td>\n",
       "      <td>49</td>\n",
       "      <td>Cell cycle</td>\n",
       "    </tr>\n",
       "    <tr>\n",
       "      <th>Saracatinib</th>\n",
       "      <td>Saracatinib</td>\n",
       "      <td>8.000000</td>\n",
       "      <td>8.0</td>\n",
       "      <td>-7.000000</td>\n",
       "      <td>1.000000</td>\n",
       "      <td>0.115429</td>\n",
       "      <td>0.113814</td>\n",
       "      <td>3.276709</td>\n",
       "      <td>111</td>\n",
       "      <td>66</td>\n",
       "      <td>43</td>\n",
       "      <td>RTK signaling</td>\n",
       "    </tr>\n",
       "    <tr>\n",
       "      <th>Selumetinib</th>\n",
       "      <td>Selumetinib</td>\n",
       "      <td>8.000000</td>\n",
       "      <td>8.0</td>\n",
       "      <td>-6.000000</td>\n",
       "      <td>2.000000</td>\n",
       "      <td>0.162186</td>\n",
       "      <td>0.148147</td>\n",
       "      <td>3.407303</td>\n",
       "      <td>314</td>\n",
       "      <td>66</td>\n",
       "      <td>33</td>\n",
       "      <td>ERK MAPK signaling</td>\n",
       "    </tr>\n",
       "    <tr>\n",
       "      <th>Sorafenib</th>\n",
       "      <td>Sorafenib</td>\n",
       "      <td>8.000000</td>\n",
       "      <td>8.0</td>\n",
       "      <td>-6.000000</td>\n",
       "      <td>2.000000</td>\n",
       "      <td>0.122516</td>\n",
       "      <td>0.126827</td>\n",
       "      <td>2.562305</td>\n",
       "      <td>107</td>\n",
       "      <td>66</td>\n",
       "      <td>44</td>\n",
       "      <td>RTK signaling</td>\n",
       "    </tr>\n",
       "    <tr>\n",
       "      <th>Tanespimycin</th>\n",
       "      <td>Tanespimycin</td>\n",
       "      <td>8.000000</td>\n",
       "      <td>8.0</td>\n",
       "      <td>-8.000000</td>\n",
       "      <td>0.000000</td>\n",
       "      <td>0.209852</td>\n",
       "      <td>0.206563</td>\n",
       "      <td>0.063913</td>\n",
       "      <td>330</td>\n",
       "      <td>66</td>\n",
       "      <td>66</td>\n",
       "      <td>Protein stability and degradation</td>\n",
       "    </tr>\n",
       "  </tbody>\n",
       "</table>\n",
       "</div>"
      ],
      "text/plain": [
       "             Standard drug name  dosage range overlap  GDSC dosage length  \\\n",
       "name                                                                        \n",
       "Crizotinib           Crizotinib              8.000000                 8.0   \n",
       "Erlotinib             Erlotinib              8.000000                 8.0   \n",
       "Lapatinib             Lapatinib              8.000000                 8.0   \n",
       "NVP-TAE684           NVP-TAE684              8.000000                 8.0   \n",
       "Nilotinib             Nilotinib              8.000000                 8.0   \n",
       "Nutlin-3a             Nutlin-3a              8.000000                 8.0   \n",
       "PD0325901             PD0325901              6.643856                 8.0   \n",
       "PHA-665752           PHA-665752              8.000000                 8.0   \n",
       "PLX-4720               PLX-4720              7.678072                 8.0   \n",
       "Paclitaxel           Paclitaxel              5.356144                 8.0   \n",
       "Palbociclib         Palbociclib              8.000000                 8.0   \n",
       "Saracatinib         Saracatinib              8.000000                 8.0   \n",
       "Selumetinib         Selumetinib              8.000000                 8.0   \n",
       "Sorafenib             Sorafenib              8.000000                 8.0   \n",
       "Tanespimycin       Tanespimycin              8.000000                 8.0   \n",
       "\n",
       "              GDSC min dosage  GDSC max dosage   mean IS  median IS  \\\n",
       "name                                                                  \n",
       "Crizotinib          -7.000000         1.000000  0.113579   0.104483   \n",
       "Erlotinib           -7.000000         1.000000  0.104502   0.093517   \n",
       "Lapatinib           -7.000000         1.000000  0.111668   0.102102   \n",
       "NVP-TAE684          -7.000000         1.000000  0.158247   0.145354   \n",
       "Nilotinib           -7.000000         1.000000  0.119039   0.111031   \n",
       "Nutlin-3a           -5.000000         3.000000  0.103574   0.096268   \n",
       "PD0325901          -10.000000        -2.000000  0.169005   0.156612   \n",
       "PHA-665752          -7.000000         1.000000  0.099693   0.088355   \n",
       "PLX-4720            -4.678072         3.321928  0.094246   0.085146   \n",
       "Paclitaxel         -11.287712        -3.287712  0.219389   0.222481   \n",
       "Palbociclib         -6.000000         2.000000  0.163515   0.161882   \n",
       "Saracatinib         -7.000000         1.000000  0.115429   0.113814   \n",
       "Selumetinib         -6.000000         2.000000  0.162186   0.148147   \n",
       "Sorafenib           -6.000000         2.000000  0.122516   0.126827   \n",
       "Tanespimycin        -8.000000         0.000000  0.209852   0.206563   \n",
       "\n",
       "              median ic50_mode  #total CLs  #CLs tested for all  \\\n",
       "name                                                              \n",
       "Crizotinib            2.798528         111                   66   \n",
       "Erlotinib             3.684525          97                   66   \n",
       "Lapatinib             3.160882         104                   66   \n",
       "NVP-TAE684            1.236829         111                   66   \n",
       "Nilotinib             2.913680         253                   66   \n",
       "Nutlin-3a             3.630165         330                   66   \n",
       "PD0325901             1.715962         326                   66   \n",
       "PHA-665752            3.426608         111                   66   \n",
       "PLX-4720              5.391576         322                   66   \n",
       "Paclitaxel           -4.787388         107                   66   \n",
       "Palbociclib           3.168589         271                   66   \n",
       "Saracatinib           3.276709         111                   66   \n",
       "Selumetinib           3.407303         314                   66   \n",
       "Sorafenib             2.562305         107                   66   \n",
       "Tanespimycin          0.063913         330                   66   \n",
       "\n",
       "              #sensitive CLs                     Target Pathway  \n",
       "name                                                             \n",
       "Crizotinib                57                      RTK signaling  \n",
       "Erlotinib                 34                     EGFR signaling  \n",
       "Lapatinib                 44                     EGFR signaling  \n",
       "NVP-TAE684                58                      RTK signaling  \n",
       "Nilotinib                 47                      ABL signaling  \n",
       "Nutlin-3a                 27                        p53 pathway  \n",
       "PD0325901                 43                 ERK MAPK signaling  \n",
       "PHA-665752                47                      RTK signaling  \n",
       "PLX-4720                  17                 ERK MAPK signaling  \n",
       "Paclitaxel                66                            Mitosis  \n",
       "Palbociclib               49                         Cell cycle  \n",
       "Saracatinib               43                      RTK signaling  \n",
       "Selumetinib               33                 ERK MAPK signaling  \n",
       "Sorafenib                 44                      RTK signaling  \n",
       "Tanespimycin              66  Protein stability and degradation  "
      ]
     },
     "execution_count": 32,
     "metadata": {},
     "output_type": "execute_result"
    }
   ],
   "source": [
    "plotting_df"
   ]
  },
  {
   "cell_type": "code",
   "execution_count": null,
   "metadata": {},
   "outputs": [],
   "source": []
  },
  {
   "cell_type": "code",
   "execution_count": null,
   "metadata": {},
   "outputs": [],
   "source": []
  }
 ],
 "metadata": {
  "kernelspec": {
   "display_name": "Python 3",
   "language": "python",
   "name": "python3"
  },
  "language_info": {
   "codemirror_mode": {
    "name": "ipython",
    "version": 3
   },
   "file_extension": ".py",
   "mimetype": "text/x-python",
   "name": "python",
   "nbconvert_exporter": "python",
   "pygments_lexer": "ipython3",
   "version": "3.6.2"
  }
 },
 "nbformat": 4,
 "nbformat_minor": 2
}
