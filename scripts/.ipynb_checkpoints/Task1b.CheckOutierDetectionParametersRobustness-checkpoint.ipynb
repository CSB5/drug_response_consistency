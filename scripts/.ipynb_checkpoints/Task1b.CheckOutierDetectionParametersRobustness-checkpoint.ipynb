{
 "cells": [
  {
   "cell_type": "markdown",
   "metadata": {},
   "source": [
    "### Script to\n",
    "1. Check how robust are the parameters which are used to detect outlier curves (Hump, rising)\n",
    "###### **NOTE: this script used dose response files in the old format : cl,dr have dataset specific names, 1 row for 1 pair not 1 doasge"
   ]
  },
  {
   "cell_type": "code",
   "execution_count": 1,
   "metadata": {},
   "outputs": [],
   "source": [
    "__author__ = 'Aanchal'"
   ]
  },
  {
   "cell_type": "code",
   "execution_count": 8,
   "metadata": {},
   "outputs": [],
   "source": [
    "dataname='CCLE'#'GDSC'"
   ]
  },
  {
   "cell_type": "code",
   "execution_count": 9,
   "metadata": {},
   "outputs": [],
   "source": [
    "import pickle \n",
    "import numpy as np\n",
    "import matplotlib.pyplot as plt\n",
    "#import seaborn as sns;  sns.set()\n",
    "import pandas as pd\n",
    "from mpl_toolkits.mplot3d import Axes3D\n",
    "\n",
    "from mpl_toolkits import mplot3d"
   ]
  },
  {
   "cell_type": "code",
   "execution_count": 10,
   "metadata": {},
   "outputs": [],
   "source": [
    "with open(\"../data_processed/Objects/\"+dataname+\"_doseResponses.obj\",\"rb\") as f: # use \"Objects/\"+dataname+\"_doseResponses2.obj\" if u r using python2\n",
    "    t0=pickle.load(f)\n",
    "    t=pickle.load( f)\n",
    "    t2=pickle.load( f)\n",
    "    \n",
    "names=t0\n",
    "response=t\n",
    "logDosage=t2\n",
    "\n",
    "response_range=200 #np.nanpercentile(t.values[:,0], 99.99) - np.nanpercentile(t.values[:,-1], 0.01)\n"
   ]
  },
  {
   "cell_type": "code",
   "execution_count": 11,
   "metadata": {},
   "outputs": [],
   "source": [
    "with open(\"../data_processed/Objects/\"+dataname+\"_doseResponses2.obj\",\"wb\") as f:\n",
    "    pickle.dump(t0,f, protocol=2)\n",
    "    pickle.dump(t,f, protocol=2)\n",
    "    pickle.dump( t2,f, protocol=2)"
   ]
  },
  {
   "cell_type": "code",
   "execution_count": 12,
   "metadata": {},
   "outputs": [],
   "source": [
    "clnames=names.values[:,0]\n",
    "drnames=names.values[:,1]\n",
    "cl_set=(list(sorted(set( clnames ) )))\n",
    "dr_set=(list(sorted(set( drnames ) )))"
   ]
  },
  {
   "cell_type": "code",
   "execution_count": 13,
   "metadata": {},
   "outputs": [
    {
     "data": {
      "text/plain": [
       "'CCLE'"
      ]
     },
     "execution_count": 13,
     "metadata": {},
     "output_type": "execute_result"
    }
   ],
   "source": [
    "dataname"
   ]
  },
  {
   "cell_type": "markdown",
   "metadata": {},
   "source": [
    "#### refer ppt2 for paras before running"
   ]
  },
  {
   "cell_type": "code",
   "execution_count": 18,
   "metadata": {},
   "outputs": [
    {
     "name": "stdout",
     "output_type": "stream",
     "text": [
      "0\n",
      "1\n",
      "2\n",
      "3\n",
      "4\n",
      "5\n",
      "6\n",
      "7\n",
      "8\n"
     ]
    }
   ],
   "source": [
    "# slightly different code used on server to generate files\n",
    "parameterVsSum=pd.DataFrame()\n",
    "                \n",
    "th1s=[2,3,4,5,6,7,8,9,10] #5 ## d_hump=5 chosen\n",
    "th2s=[5,10,15,20,25,30,35,40,45,50] #0.15*response_range=30 ## h1=30 chosem\n",
    "th3s=[5,10,15,20,25,30,35,40,45,50]#0.1*response_range=20 ## h2\n",
    "th4s=[30]#[5,10,15,20,25,30,35,40,45,50,55,60,65,70,75,80,85,90] #0.15*response_range=30 ## d_rising\n",
    "\n",
    "\n",
    "\n",
    "for i in range (len(th1s)): \n",
    "    print(i)\n",
    "    th1=th1s[i]\n",
    "    \n",
    "    for j in range(len(th2s)):\n",
    "        th2=th2s[j]\n",
    "        \n",
    "        for k in range(len(th3s)):\n",
    "            th3=th3s[k]\n",
    "        \n",
    "            for l in range(len(th4s)):\n",
    "                th4=th4s[l]\n",
    "                \n",
    "                \n",
    "                flag_1=[0]*len(t)\n",
    "                flag_2=[0]*len(t)\n",
    "                flag_3=[0]*len(t)\n",
    "                flag_4=[0]*len(t) \n",
    "\n",
    "                category_matrix= np.zeros(shape=(len(cl_set),len(dr_set)))\n",
    "\n",
    "                for i in range(names.shape[0]): #run for total nuber of pairs\n",
    "\n",
    "                    sample=response.values[i,:]\n",
    "                    sample_sorted=sorted(list(sample))\n",
    "\n",
    "                    m=sample[round(len(sample)/2)]\n",
    "                    \n",
    "                    diff=sample[-1]-sample[0]\n",
    "                    ht=max(sample)-sample[0]\n",
    "                    ht2=sample_sorted[-2]-sample[0]\n",
    "\n",
    "                    category_matrix[cl_set.index(names.values[i,0]),dr_set.index(names.values[i,1])]=1\n",
    "\n",
    "                    drug_id=dr_set.index(names.values[i,1])\n",
    "                    cl_id=cl_set.index(names.values[i,0])\n",
    "\n",
    "                    if(abs(diff)<th1 and ht>th2 and ht2>th3):#5*diff):\n",
    "                        flag_3[i]=1\n",
    "                        category_matrix[cl_id,drug_id]=3\n",
    "\n",
    "\n",
    "                    elif(diff>th4):#0.15*response_range):\n",
    "                        flag_4[i]=1\n",
    "                        category_matrix[cl_id,drug_id]=4\n",
    "\n",
    "\n",
    "\n",
    "                    elif(m-sample[0] <-0.025*response_range and sample[-1]-m<-0.025*response_range):\n",
    "                        flag_2[i]=1\n",
    "                        category_matrix[cl_id,drug_id]=2\n",
    "\n",
    "                    else:\n",
    "                        flag_1[i]=1\n",
    "\n",
    "\n",
    "                no_hump=np.count_nonzero(flag_3)\n",
    "                per_hump=round(np.count_nonzero(flag_3)/len(t)*100 , 3)\n",
    "\n",
    "                no_rising=np.count_nonzero(flag_4)\n",
    "                per_rising=round(np.count_nonzero(flag_4)/len(t)*100 , 3)\n",
    "\n",
    "                total_no_outliers=no_hump+no_rising\n",
    "                total_perc_outliers=round(total_no_outliers)/len(t)*100 , 3\n",
    "\n",
    "\n",
    "                #print(\"\\n No. (percentage) of DW pairs: \"+str(np.count_nonzero(flag_2) )+\" (\"+str(round(np.count_nonzero(flag_2)/len(t)*100 , 3) )+\"%)\")\n",
    "                #print(\"\\n No. (percentage) of DNW pairs: \"+str(np.count_nonzero(flag_1) )+\" (\"+str(round(np.count_nonzero(flag_1)/len(t)*100 , 3) )+\"%)\")\n",
    "\n",
    "                category_df=pd.DataFrame(category_matrix,columns=dr_set, index=cl_set)\n",
    "                #category_df.to_csv('../data_processed/CheckParameterRobustnessInCurveCategoryDetection/'+dataname+'CC_'+str(th1)+'_'+str(th2)+'_'+str(th3)+'_'+str(th4)+'.csv')\n",
    "               \n",
    "                parameterVsSum=parameterVsSum.append(pd.DataFrame([th1 ,th2 ,th3, th4, no_hump, no_rising ,total_no_outliers]).transpose() , ignore_index=True )\n"
   ]
  },
  {
   "cell_type": "code",
   "execution_count": 19,
   "metadata": {},
   "outputs": [],
   "source": [
    "parameterVsSum.columns=['d_hump','h1','h2','d_rising','# Humps','# Rising','total_outliers']\n",
    "parameterVsSum.to_csv('../data_processed/CheckParameterRobustnessInCurveCategoryDetection/'+dataname+'Sum_Variation.csv',index=False, sep=',')"
   ]
  },
  {
   "cell_type": "markdown",
   "metadata": {},
   "source": [
    "##### The above code is first run by varying d_rising(th4) keeping other parameters constant, and the csv file written has been renamed to CCLE_rising.csv then the code is run by varing d_hump, h1,h2, keeping d_rising const, and the csv filw written ahs been renamed to CCLE_hump.csv. These csv files are then used to plot trends in excel shee as shown in ppt2"
   ]
  },
  {
   "cell_type": "markdown",
   "metadata": {},
   "source": [
    "### PLOTS made in excel.. except the following ones made in python (unable to find excel file)"
   ]
  },
  {
   "cell_type": "code",
   "execution_count": null,
   "metadata": {},
   "outputs": [],
   "source": []
  },
  {
   "cell_type": "code",
   "execution_count": null,
   "metadata": {},
   "outputs": [],
   "source": []
  },
  {
   "cell_type": "code",
   "execution_count": null,
   "metadata": {
    "scrolled": true
   },
   "outputs": [],
   "source": [
    "nhump_variation = pd.read_csv('../data_processed/CheckParameterRobustnessInCurveCategoryDetection/Summary_'+dataname+'_hump.csv')\n"
   ]
  },
  {
   "cell_type": "code",
   "execution_count": null,
   "metadata": {},
   "outputs": [],
   "source": [
    "fig = plt.figure()\n",
    "\n",
    "for dh in range(2,11,1):\n",
    "    for h1 in range(5,50,5):\n",
    "        t=nhump_variation[ nhump_variation['d_hump']==dh ]\n",
    "        temp=t[t['h1']==h1 ]\n",
    "        #print(temp.values[:,3],  temp.values[:,4])\n",
    "        p=plt.plot(temp.values[:,3],  temp.values[:,4], '.-', label='h1='+str(h1) )\n",
    "\n",
    "    plt.title(dataname+': d_hump='+str(dh),fontsize=19 )\n",
    "    plt.ylabel('#Humps',fontsize=19)\n",
    "    plt.xlabel('h2',fontsize=19)\n",
    "    plt.ylim(0,50+nhump_variation['#HUMPS'].max())\n",
    "    plt.legend(loc='upper right',fontsize=12)\n",
    "    \n",
    "    plt.savefig('figures/CheckParameterRobustnessInCurveCategoryDetection/nohVSh2/'+dataname+'_nohVSh2_dh='+str(dh)+'.svg')\n",
    "    plt.show()"
   ]
  },
  {
   "cell_type": "code",
   "execution_count": null,
   "metadata": {},
   "outputs": [],
   "source": [
    "fig = plt.figure()\n",
    "\n",
    "for dh in range(2,10,1):\n",
    "\n",
    "    t=nhump_variation[ nhump_variation['h2']==20 ]\n",
    "    temp=t[t['d_hump']==dh ]\n",
    "    plt.plot(temp.values[:,2],  temp.values[:,4], '.-', label='d_hump='+str(dh))\n",
    "\n",
    "plt.title(dataname+': h2='+str(20) )\n",
    "plt.legend(loc='upper right')\n",
    "plt.ylabel('#Humps')\n",
    "plt.xlabel('h1')\n",
    "plt.savefig('figures/CheckParameterRobustnessInCurveCategoryDetection/'+dataname+'_nohVSh1_h2='+str(20)+'.svg')\n",
    "plt.show()"
   ]
  },
  {
   "cell_type": "code",
   "execution_count": null,
   "metadata": {},
   "outputs": [],
   "source": [
    "fig = plt.figure()\n",
    "\n",
    "t=nhump_variation[ nhump_variation['h2']==20 ]\n",
    "temp=t[t['h1']==30]\n",
    "plt.plot(temp.values[:,1],  temp.values[:,4], '.-')\n",
    "\n",
    "plt.title(dataname+': h2='+str(20)+', h1='+ str(30))\n",
    "plt.legend(loc='upper right')\n",
    "plt.ylabel('#Humps')\n",
    "plt.xlabel('d_hump')\n",
    "plt.savefig('figures/CheckParameterRobustnessInCurveCategoryDetection/'+dataname+'_nohVSd_hump_h1=30_h2='+str(20)+'.svg')\n",
    "plt.show()"
   ]
  },
  {
   "cell_type": "code",
   "execution_count": null,
   "metadata": {},
   "outputs": [],
   "source": []
  },
  {
   "cell_type": "code",
   "execution_count": null,
   "metadata": {},
   "outputs": [],
   "source": []
  }
 ],
 "metadata": {
  "kernelspec": {
   "display_name": "Python 3",
   "language": "python",
   "name": "python3"
  },
  "language_info": {
   "codemirror_mode": {
    "name": "ipython",
    "version": 3
   },
   "file_extension": ".py",
   "mimetype": "text/x-python",
   "name": "python",
   "nbconvert_exporter": "python",
   "pygments_lexer": "ipython3",
   "version": "3.7.3"
  }
 },
 "nbformat": 4,
 "nbformat_minor": 2
}
