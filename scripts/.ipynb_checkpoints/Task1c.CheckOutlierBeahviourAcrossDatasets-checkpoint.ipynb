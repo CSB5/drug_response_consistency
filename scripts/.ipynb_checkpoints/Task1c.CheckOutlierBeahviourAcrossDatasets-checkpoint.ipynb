{
 "cells": [
  {
   "cell_type": "markdown",
   "metadata": {},
   "source": [
    "### Script to\n",
    "1. Get CCLE and GDSC curve categories  from previous task file and assign DW/2 label to pairs for which ic50<max_dosage \n",
    "so that we can Check if Hump and rising curves are outliers (to be removed) or is it the property of some dr/cl ? \n",
    "\n",
    "(if it is the prop, then same pairs would be Hump in both datasets/ Rising in both datasets)\n",
    "###### **NOTE: this script used dose response files in the old format : cl,dr have dataset specific names, 1 row for 1 pair not 1 doasge"
   ]
  },
  {
   "cell_type": "code",
   "execution_count": 1,
   "metadata": {},
   "outputs": [],
   "source": [
    "__author__ = 'Aanchal'"
   ]
  },
  {
   "cell_type": "code",
   "execution_count": 7,
   "metadata": {},
   "outputs": [],
   "source": [
    "import numpy as np\n",
    "import pandas as pd\n",
    "import pickle\n",
    "from sklearn.metrics import confusion_matrix\n",
    "import matplotlib.pyplot as plt\n",
    "import FUNCTIONS as ff"
   ]
  },
  {
   "cell_type": "code",
   "execution_count": 3,
   "metadata": {},
   "outputs": [],
   "source": [
    "import warnings\n",
    "warnings.filterwarnings('ignore')\n"
   ]
  },
  {
   "cell_type": "code",
   "execution_count": 11,
   "metadata": {},
   "outputs": [],
   "source": [
    "# define these 4 parameters based on which method you want to use to separate normal shape category 1) IC50 2) code\n",
    "ccle_max_dose=3 #log2(8)\n",
    "categoryMatrix_ccle=pd.read_csv(\"../data_processed/CurveCategoryDetection/\"+\"CCLE\"+\"_CurveCategory.tsv\", sep='\\t')\n",
    "categoryMatrix_gdsc=pd.read_csv(\"../data_processed/CurveCategoryDetection/\"+\"GDSE\"+\"_CurveCategory.tsv\", sep='\\t')\n"
   ]
  },
  {
   "cell_type": "markdown",
   "metadata": {},
   "source": [
    "##### Get (dataset specific) names of common pairs"
   ]
  },
  {
   "cell_type": "code",
   "execution_count": 12,
   "metadata": {
    "scrolled": true
   },
   "outputs": [],
   "source": [
    "with open(\"../data_processed/Objects/CCLE_doseResponses.obj\",\"rb\") as f:\n",
    "    names_ccle=pickle.load(f)\n",
    "with open(\"../data_processed/Objects/GDSC_doseResponses.obj\",\"rb\") as f:\n",
    "    names_gdsc=pickle.load(f) \n",
    "    response_gdsc=pickle.load( f)\n",
    "    logDosage_gdsc=pickle.load( f)\n",
    "    \n",
    "common_CL_info = pd.read_excel('../data/drug_response/GDSC-CCLE-CTRP_conversion.xlsx', sheetname='Cell lines')\n",
    "common_DR_info = pd.read_excel('../data/drug_response/GDSC-CCLE-CTRP_conversion.xlsx', sheetname='Drugs_edited')\n",
    "\n",
    "Intersection=ff.getCommonPairs_CCLEnomenclature(names_ccle, names_gdsc, common_CL_info,common_DR_info)"
   ]
  },
  {
   "cell_type": "code",
   "execution_count": 13,
   "metadata": {},
   "outputs": [],
   "source": [
    "### splitting normal shape category using IC50\n",
    "ic50_ccle=pd.read_csv('../data/drug_response/CCLE/ccle_all_abs_ic50_bayesian_sigmoid.csv') \n",
    "ic50_gdsc=pd.read_csv('../data/drug_response/GDSC/gdsc_all_abs_ic50_bayesian_sigmoid.csv') \n",
    "\n",
    "for i in range(len(common_CL_info.values[:,0])):\n",
    "    gid=common_CL_info.values[i,0]\n",
    "    names_gdsc['Cell_line_name']=(names_gdsc['Cell_line_name'].replace( gid  ,common_CL_info.values[i,2]) )\n",
    "\n",
    "for i in range(len(common_DR_info.values[:,0])):\n",
    "    gid=common_DR_info.values[i,0]\n",
    "    names_gdsc['Drug _Name']=(names_gdsc['Drug _Name'].replace( gid  ,common_DR_info.values[i,3]) )\n",
    " \n",
    "for i in range(len(Intersection)):\n",
    "    \n",
    "    ind_cl=np.where( categoryMatrix_ccle.values[:,0] == Intersection.values[i,0]  )[0]\n",
    "    ind_dr=np.where( categoryMatrix_ccle.columns == Intersection.values[i,1] )[0]\n",
    "    ccle_label= categoryMatrix_ccle.values[ind_cl , ind_dr  ]\n",
    "    Intersection.loc[i,'ccle_category'] =  ccle_label\n",
    "    \n",
    "    if (ccle_label==1): ##not in prev code\n",
    "        ind_cl=np.where( ic50_ccle.values[:,0] == Intersection.values[i,0]  )[0]\n",
    "        ind_dr=np.where( ic50_ccle.columns == (Intersection.values[i,1]) )[0]\n",
    "        ccle_ic50= ic50_ccle.values[ind_cl , ind_dr  ]\n",
    "        if (ccle_ic50 < ccle_max_dose):\n",
    "            Intersection.loc[i,'ccle_category'] = 2\n",
    "        \n",
    "        \n",
    "    colno=0  \n",
    "    gdsc_cl_id=common_CL_info.values[ common_CL_info['CCLE name']==Intersection.values[i,0] ,colno] \n",
    "    ind_cl=np.where( categoryMatrix_gdsc.values[:,0] == gdsc_cl_id )[0]\n",
    "    gdsc_dr_id=common_DR_info.values[ common_DR_info['CCLE name']==Intersection.values[i,1] ,colno] \n",
    "    #print(Intersection.values[i,1], gdsc_dr_id)\n",
    "    ind_dr=np.where( categoryMatrix_gdsc.columns ==str(gdsc_dr_id[0]) )[0]\n",
    "    gdsc_label= categoryMatrix_gdsc.values[ind_cl , ind_dr  ]\n",
    "    Intersection.loc[i,'gdsc_category'] =  gdsc_label\n",
    "    \n",
    "    if (gdsc_label==1):\n",
    "        colno=0    \n",
    "        gdsc_cl_id=common_CL_info.values[ common_CL_info['CCLE name']==Intersection.values[i,0] ,colno] \n",
    "        ind_cl=np.where( ic50_gdsc.values[:,0] == gdsc_cl_id )[0]\n",
    "\n",
    "        gdsc_dr_id=common_DR_info.values[ common_DR_info['CCLE name']==Intersection.values[i,1] ,colno] \n",
    "        ind_dr=np.where( ic50_gdsc.columns ==str(gdsc_dr_id[0]) )[0]\n",
    "\n",
    "\n",
    "        a=names_gdsc.index[   names_gdsc['Cell_line_name']== Intersection.values[i,0] ]\n",
    "        b=names_gdsc.index[   names_gdsc['Drug _Name']==Intersection.values[i,1] ]\n",
    "        ind2=names_gdsc.index[a & b][0]\n",
    "        gdsc_max_dose=max(logDosage_gdsc.values[ind2, 0:9] )    \n",
    "        gdsc_ic50= ic50_gdsc.values[ind_cl , ind_dr  ]\n",
    "\n",
    "        if (gdsc_ic50 < gdsc_max_dose):\n",
    "            Intersection.loc[i,'gdsc_category'] = 2\n"
   ]
  },
  {
   "cell_type": "code",
   "execution_count": 14,
   "metadata": {},
   "outputs": [],
   "source": [
    "Intersection.to_csv('../data_processed/CurveCategoryDetection/Intersection_withCurveCategory_SplitNormalUsingIC50.csv',index=False)\n",
    "#Intersection_ic50=pd.read_csv('../data_processed/CurveCategoryDetection/Intersection_withCurveCategory_SplitNormalUsingIC50.csv')\n"
   ]
  },
  {
   "cell_type": "code",
   "execution_count": null,
   "metadata": {
    "scrolled": true
   },
   "outputs": [],
   "source": [
    "Intersection_ic50=Intersection"
   ]
  },
  {
   "cell_type": "code",
   "execution_count": null,
   "metadata": {},
   "outputs": [],
   "source": []
  }
 ],
 "metadata": {
  "kernelspec": {
   "display_name": "Python 3",
   "language": "python",
   "name": "python3"
  },
  "language_info": {
   "codemirror_mode": {
    "name": "ipython",
    "version": 3
   },
   "file_extension": ".py",
   "mimetype": "text/x-python",
   "name": "python",
   "nbconvert_exporter": "python",
   "pygments_lexer": "ipython3",
   "version": "3.7.3"
  }
 },
 "nbformat": 4,
 "nbformat_minor": 2
}
