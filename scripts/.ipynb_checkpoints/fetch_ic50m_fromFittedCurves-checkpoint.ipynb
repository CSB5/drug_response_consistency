{
 "cells": [
  {
   "cell_type": "code",
   "execution_count": 1,
   "metadata": {},
   "outputs": [],
   "source": [
    "#datasets_list=['CCLE','GDSC1replicatesSummarized']\n",
    "\n",
    "data='CCLE' #'GDSC1replicatesSummarized'\n",
    "rawFileDir=\"../data/data_2019_12_05/\"\n",
    "\n",
    "sample_col_name='cell line name'\n",
    "drug_col_name ='drug name'\n",
    "dosage_col_name='Dosage (uM)' \n",
    "response_col_name='Response'\n",
    "\n",
    "FittedCurves_dir='../../Aanchal_AWS/output_files/FittedCurves_CCLE/'\n"
   ]
  },
  {
   "cell_type": "code",
   "execution_count": null,
   "metadata": {},
   "outputs": [],
   "source": []
  },
  {
   "cell_type": "code",
   "execution_count": null,
   "metadata": {},
   "outputs": [],
   "source": [
    "# FOR ALL COMMON PAIRS\n",
    "indices=len(data)\n",
    "df=data_names"
   ]
  },
  {
   "cell_type": "code",
   "execution_count": null,
   "metadata": {},
   "outputs": [],
   "source": [
    "cl_list = sorted(list(set(df[sample_col_name])))\n",
    "\n",
    "i=0\n",
    "for clname in cl_list:\n",
    "    print(i, clname)\n",
    "    i=i+1\n",
    "    \n",
    "    cl_df = df[df[sample_col_name] == clname]\n",
    "    fin=os.path.join(FittedCurves_dir, '{:s}.csv'.format(clname +'_'+shrinkage+'fitted'))\n",
    "    curveParas_df=pd.read_csv(fin)\n",
    "    \n",
    "    for ind, row in cl_df.iterrows():\n",
    "        \n",
    "        drname= row[drug_col_name]#drname=Intersection_names.loc[i,'Standard drug name']\n",
    "        \n",
    "        curveParas_df_drugSpecific=curveParas_df[curveParas_df['drug name']==drname]\n",
    "  "
   ]
  },
  {
   "cell_type": "code",
   "execution_count": null,
   "metadata": {},
   "outputs": [],
   "source": []
  }
 ],
 "metadata": {
  "kernelspec": {
   "display_name": "Python 3",
   "language": "python",
   "name": "python3"
  },
  "language_info": {
   "codemirror_mode": {
    "name": "ipython",
    "version": 3
   },
   "file_extension": ".py",
   "mimetype": "text/x-python",
   "name": "python",
   "nbconvert_exporter": "python",
   "pygments_lexer": "ipython3",
   "version": "3.6.2"
  }
 },
 "nbformat": 4,
 "nbformat_minor": 2
}
