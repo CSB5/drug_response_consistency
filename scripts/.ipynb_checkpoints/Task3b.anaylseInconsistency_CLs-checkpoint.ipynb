{
 "cells": [
  {
   "cell_type": "markdown",
   "metadata": {},
   "source": [
    "### Script to get \n",
    "1. jaccard, hamming and kapa similarities between mutation profiles and other metadata of CLs\n",
    "2. Euclidean, cosine, correation similarities between GE profiles and other metadata of CLs"
   ]
  },
  {
   "cell_type": "code",
   "execution_count": 1,
   "metadata": {},
   "outputs": [],
   "source": [
    "__author__ = 'Aanchal'"
   ]
  },
  {
   "cell_type": "code",
   "execution_count": 2,
   "metadata": {},
   "outputs": [],
   "source": [
    "import pandas as pd\n",
    "import FUNCTIONS as f\n",
    "import numpy as np\n",
    "from scipy.spatial import distance \n",
    "from sklearn.metrics import cohen_kappa_score\n",
    "import matplotlib.pyplot as plt\n",
    "\n",
    "import warnings\n",
    "warnings.filterwarnings('ignore')"
   ]
  },
  {
   "cell_type": "markdown",
   "metadata": {},
   "source": [
    "### MUTATION data analysis"
   ]
  },
  {
   "cell_type": "code",
   "execution_count": 3,
   "metadata": {},
   "outputs": [],
   "source": [
    "rawFileDir=\"../data/omic_profile/\""
   ]
  },
  {
   "cell_type": "code",
   "execution_count": 4,
   "metadata": {},
   "outputs": [],
   "source": [
    "source='CELL'"
   ]
  },
  {
   "cell_type": "code",
   "execution_count": 5,
   "metadata": {},
   "outputs": [],
   "source": [
    "if (source=='CELL'):\n",
    "    cancer_genes_matrix=pd.read_excel(rawFileDir+\"CancerGenes_CELL.xlsx\"  , sheetname=\"Table S1\", header=3)\n",
    "    cancer_genes=cancer_genes_matrix['Gene'].unique()\n",
    "    # get Cancer Driver genes (cdg) taken from supplementary of \"Comprehensive Characterization of Cancer Driver Genes and Mutations \"\n",
    "    #len(cancer_genes_CELL)"
   ]
  },
  {
   "cell_type": "markdown",
   "metadata": {},
   "source": [
    "###### Get feature matrix for fechting AAA for all pairs and derive mean AAA for evey cel line"
   ]
  },
  {
   "cell_type": "code",
   "execution_count": 6,
   "metadata": {},
   "outputs": [],
   "source": [
    "FM=pd.read_csv('../data_processed/FittedCurvesCommonPairs_features/Feature_Matrix_FLatPerDrugFitting_15features.csv') # #Normalized_outliersCapped\n",
    "\n",
    "area_df=FM.groupby('Standard cell line name')['Standard cell line name','IS','mae_fitness'].mean() #takes avg of all cols\n",
    "\n",
    "FM=FM.set_index('Standard cell line name')"
   ]
  },
  {
   "cell_type": "markdown",
   "metadata": {},
   "source": [
    "##### Get mutation profiles of cell lines from CCLE and GDSC"
   ]
  },
  {
   "cell_type": "code",
   "execution_count": 7,
   "metadata": {
    "scrolled": true
   },
   "outputs": [],
   "source": [
    "ccle=pd.read_csv(rawFileDir+'CCLE_mut.tsv', sep=\"\\t\", index_col=0)\n",
    "[dic_cl_ccle,dic_dr_ccle]=f.getDictionary('CCLE',1) #metadata_filename=\"../data/metadata_2019_08_15_aanchal.xlsx\"#meta_df = pd.read_excel(metadata_filename,sheetname=\"cell line\")#cl_name_dict = dict(zip(meta_df['CCLE name'], meta_df['name']))#ccle.columns = [cl_name_dict[cl] for cl in ccle.columns]#[cl for cl in ccle.columns if cl not in cl_name_dict.keys()]\n",
    "ccle=ccle.rename(columns=dic_cl_ccle) #skips renaming cls which are not present in dictionary\n",
    "\n",
    "gdsc=pd.read_csv(rawFileDir+'GDSC_mut.tsv', sep=\"\\t\", index_col=0)\n",
    "[dic_cl_gdsc,dic_dr_gdsc]=f.getDictionary2('GDSC')\n",
    "gdsc=gdsc.rename(columns=dic_cl_gdsc)"
   ]
  },
  {
   "cell_type": "code",
   "execution_count": 8,
   "metadata": {
    "scrolled": true
   },
   "outputs": [
    {
     "name": "stdout",
     "output_type": "stream",
     "text": [
      "(154, 345)\n",
      "Index(['NCI-H1694', 'UM-UC-3', 'HOS', 'RVH-421', 'TC-71', 'COLO-205',\n",
      "       'SNU-449', 'NCI-H28', 'JHOS-4', 'KYSE-450',\n",
      "       ...\n",
      "       'L-363', 'SIMA', 'SU-DHL-6', 'KARPAS-620', 'SIG-M5', 'BCPAP',\n",
      "       'TT2609-C02', 'AMO-1', 'MOLP-8', 'OE21'],\n",
      "      dtype='object', length=345)\n"
     ]
    }
   ],
   "source": [
    "# Use CLs common in CCLE mutation data, GDSC mutation data, common set features\n",
    "comm_cl=(ccle.columns & gdsc.columns &  area_df.index )\n",
    "area_df=area_df.loc[comm_cl]\n",
    "ccle=ccle[comm_cl]\n",
    "gdsc=gdsc[comm_cl]\n",
    "\n",
    "#Use genes common in CCLE mut data, GDSC mut data and cancer driver genes (without cancer driver, there were 1601 genes common in 1638 ccle genes and 19100 gdsc genes)\n",
    "#if cdg taken from CELL, 154 comm genes; if cdg taken from gdsc, 127 comm genes\n",
    "# id cdg taken from COSMIS, 453 comm genes\n",
    "if (source):\n",
    "    comm_genes=ccle.index & gdsc.index & cancer_genes\n",
    "else:\n",
    "    comm_genes=ccle.index & gdsc.index \n",
    "        \n",
    "ccle=ccle.loc[comm_genes]\n",
    "gdsc=gdsc.loc[comm_genes]\n",
    "\n",
    "print(ccle.shape )"
   ]
  },
  {
   "cell_type": "code",
   "execution_count": 9,
   "metadata": {},
   "outputs": [],
   "source": [
    "#list of distances between mutation profiles of ccle CLs and gdsc CLs\n",
    "#corr_l=[] \n",
    "#euc_l=[] \n",
    "hd_l=[]\n",
    "kappa_l=[]\n",
    "jacc_l=[]\n",
    "for col in ccle.columns:\n",
    "    hd_l.append(1-distance.hamming(ccle[col], gdsc[col]))\n",
    "    jacc_l.append(1-distance.jaccard(ccle[col], gdsc[col]))\n",
    "    kappa_l.append(cohen_kappa_score(ccle[col], gdsc[col]))"
   ]
  },
  {
   "cell_type": "code",
   "execution_count": 27,
   "metadata": {
    "scrolled": true
   },
   "outputs": [],
   "source": [
    "plotting_df=pd.DataFrame()\n",
    "#plotting_df['Standard cell line name']=list(area_df.index.values)\n",
    "# unique key: area_df.index\n",
    "############\n",
    "plotting_df['mean IS']=area_df['IS'] #dont put so that its not used further as taking mean of AAA across CLS would results in lossof info\n",
    "plotting_df['mean mae_fitness']=area_df['mae_fitness']\n",
    "plotting_df['hamming']=hd_l\n",
    "plotting_df['jaccard']=jacc_l\n",
    "plotting_df['kappa']=kappa_l\n",
    "plotting_df['#muts ccle']=list(ccle.sum())\n",
    "plotting_df['#muts gdsc']=list(gdsc.sum())"
   ]
  },
  {
   "cell_type": "code",
   "execution_count": 28,
   "metadata": {},
   "outputs": [],
   "source": [
    "plotting_df=FM.merge(plotting_df,left_index=True, right_index=True)"
   ]
  },
  {
   "cell_type": "code",
   "execution_count": 29,
   "metadata": {
    "scrolled": true
   },
   "outputs": [],
   "source": [
    "plotting_df.to_csv('../data_processed/InconsistencyFactorAnalysis/mutation_anaysis_withCDgenes_'+source+'.csv')"
   ]
  },
  {
   "cell_type": "code",
   "execution_count": null,
   "metadata": {},
   "outputs": [],
   "source": []
  },
  {
   "cell_type": "code",
   "execution_count": null,
   "metadata": {},
   "outputs": [],
   "source": []
  },
  {
   "cell_type": "code",
   "execution_count": null,
   "metadata": {},
   "outputs": [],
   "source": []
  },
  {
   "cell_type": "markdown",
   "metadata": {},
   "source": [
    "### GENE EXPRESSION data analysis : on genes which are variably expressed  in cls \n",
    "(restart notebook)"
   ]
  },
  {
   "cell_type": "code",
   "execution_count": 1,
   "metadata": {},
   "outputs": [],
   "source": [
    "import pandas as pd\n",
    "import FUNCTIONS as f\n",
    "from scipy.spatial import distance \n",
    "from scipy.stats import variation\n",
    "import numpy as np\n",
    "\n",
    "import warnings\n",
    "warnings.filterwarnings('ignore')\n",
    "\n",
    "rawFileDir=\"../data/omic_profile/\"\n",
    "[dic_cl_ccle,dic_dr_ccle]=f.getDictionary('CCLE',1) #metadata_filename=\"../data/metadata_2019_08_15_aanchal.xlsx\"#meta_df = pd.read_excel(metadata_filename,sheetname=\"cell line\")#cl_name_dict = dict(zip(meta_df['CCLE name'], meta_df['name']))#ccle.columns = [cl_name_dict[cl] for cl in ccle.columns]#[cl for cl in ccle.columns if cl not in cl_name_dict.keys()]\n",
    "[dic_cl_gdsc,dic_dr_gdsc]=f.getDictionary2('GDSC')\n"
   ]
  },
  {
   "cell_type": "code",
   "execution_count": 2,
   "metadata": {},
   "outputs": [
    {
     "data": {
      "text/plain": [
       "'probs with GE data\\n1. empty egene names for some rows: drop them\\n2. Duplicate gene names Eg; TTL (not duplicate rows!) : avg bcz diff probes map to same gene\\n'"
      ]
     },
     "execution_count": 2,
     "metadata": {},
     "output_type": "execute_result"
    }
   ],
   "source": [
    "'''probs with GE data\n",
    "1. empty egene names for some rows: drop them\n",
    "2. Duplicate gene names Eg; TTL (not duplicate rows!) : avg bcz diff probes map to same gene\n",
    "'''"
   ]
  },
  {
   "cell_type": "code",
   "execution_count": 3,
   "metadata": {},
   "outputs": [],
   "source": [
    "drugname=[]\n",
    "\n",
    "high_dispersion_genes=True\n",
    "source='' # consider all common genes  # didnt consider cancer driver genes since these were generated usimng mutation data not GE"
   ]
  },
  {
   "cell_type": "code",
   "execution_count": 4,
   "metadata": {},
   "outputs": [],
   "source": [
    "FM=pd.read_csv('../data_processed/FittedCurvesCommonPairs_features/Feature_Matrix_FLatPerDrugFitting_15features.csv') # #Normalized_outliersCapped\n",
    "\n",
    "FM=FM.set_index('Standard cell line name')"
   ]
  },
  {
   "cell_type": "code",
   "execution_count": 5,
   "metadata": {},
   "outputs": [],
   "source": [
    "#read expression data\n",
    "ccle=pd.read_csv(rawFileDir+'CCLE_exp.tsv', sep=\"\\t\", index_col=0)\n",
    "ccle=ccle.rename(columns=dic_cl_ccle) #18988 total rows\n",
    "ccle=ccle.groupby(level=0).mean() #18900 remaining rows out of 18988: 87 were Nan indices/empty gene-names dropped and 2 rows had same gene name \"TTL\" averaged..#ccle data has a gene 'TTL' which has 2 pobes (rows) mapped to it..so to take the avg expression of those probes, take mean after grouping based on gene names \n",
    "\n",
    "gdsc=pd.read_csv(rawFileDir+'GDSC_exp.tsv', sep=\"\\t\", index_col=0)\n",
    "gdsc=gdsc.rename(columns=dic_cl_gdsc)"
   ]
  },
  {
   "cell_type": "code",
   "execution_count": 6,
   "metadata": {},
   "outputs": [
    {
     "data": {
      "text/plain": [
       "(17737, 1018)"
      ]
     },
     "execution_count": 6,
     "metadata": {},
     "output_type": "execute_result"
    }
   ],
   "source": [
    "gdsc.shape"
   ]
  },
  {
   "cell_type": "code",
   "execution_count": 7,
   "metadata": {},
   "outputs": [],
   "source": [
    "# Use CLs common in CCLE expression data, GDSC expression data, common set features\n",
    "comm_cl=(ccle.columns & gdsc.columns &  FM.index.unique() )\n",
    "\n",
    "###area_df=area_df.loc[comm_cl]\n",
    "ccle=ccle[comm_cl]\n",
    "gdsc=gdsc[comm_cl]"
   ]
  },
  {
   "cell_type": "code",
   "execution_count": 8,
   "metadata": {},
   "outputs": [
    {
     "data": {
      "text/plain": [
       "Index(['LN-18', '786-0', 'MIA-PaCa-2', 'SBC-5', 'IPC-298', 'Capan-2', 'Hs766T',\n",
       "       'EFO-27', 'A2780', 'IGROV-1',\n",
       "       ...\n",
       "       'SU8686', 'BL-41', 'PANC-02-03', 'U-118-MG', 'VMRC-LCD', 'TCCSUP',\n",
       "       'GB-1', 'KURAMOCHI', 'CMK', 'A2058'],\n",
       "      dtype='object', length=352)"
      ]
     },
     "execution_count": 8,
     "metadata": {},
     "output_type": "execute_result"
    }
   ],
   "source": [
    "ccle.columns"
   ]
  },
  {
   "cell_type": "code",
   "execution_count": 9,
   "metadata": {},
   "outputs": [
    {
     "data": {
      "text/plain": [
       "<matplotlib.legend.Legend at 0x2466e72dfd0>"
      ]
     },
     "execution_count": 9,
     "metadata": {},
     "output_type": "execute_result"
    },
    {
     "data": {
      "image/png": "[encoded data removed]",
      "text/plain": [
       "<Figure size 432x288 with 1 Axes>"
      ]
     },
     "metadata": {
      "needs_background": "light"
     },
     "output_type": "display_data"
    }
   ],
   "source": [
    "import seaborn as sns\n",
    "import matplotlib.pyplot as plt\n",
    "\n",
    "sns.distplot(variation(ccle, axis=1), label='ccle')\n",
    "sns.distplot(variation(gdsc, axis=1), label='gdsc')\n",
    "plt.legend()"
   ]
  },
  {
   "cell_type": "code",
   "execution_count": 10,
   "metadata": {},
   "outputs": [
    {
     "data": {
      "text/plain": [
       "(17737, 352)"
      ]
     },
     "execution_count": 10,
     "metadata": {},
     "output_type": "execute_result"
    }
   ],
   "source": [
    "gdsc.shape"
   ]
  },
  {
   "cell_type": "code",
   "execution_count": 11,
   "metadata": {},
   "outputs": [],
   "source": [
    "#selected top 1000 highly dispersed genes\n",
    "if(high_dispersion_genes): #https://365datascience.com/variance-standard-deviation-coefficient-variation/ #2nd method:https://support.bioconductor.org/p/104710/\n",
    "    n=1000\n",
    "    var1 = variation(ccle, axis=1) \n",
    "    ind1 = np.argpartition(var1, -n)[-n:]\n",
    "    ccle=ccle.iloc[ind1]\n",
    "    \n",
    "    var2 = variation(gdsc, axis=1)\n",
    "    ind2 = np.argpartition(var2, -n)[-n:]\n",
    "    gdsc= gdsc.iloc[ind2]\n",
    "\n",
    "comm_genes=ccle.index & gdsc.index \n",
    "\n",
    "gdsc=gdsc.loc[comm_genes.dropna()]\n",
    "ccle=ccle.loc[comm_genes.dropna()] #(15690 comm genes bw ccle and gdsc, 256 CLs)\n",
    "\n"
   ]
  },
  {
   "cell_type": "code",
   "execution_count": 12,
   "metadata": {},
   "outputs": [
    {
     "data": {
      "text/plain": [
       "<matplotlib.axes._subplots.AxesSubplot at 0x2466e42bba8>"
      ]
     },
     "execution_count": 12,
     "metadata": {},
     "output_type": "execute_result"
    },
    {
     "data": {
      "image/png": "[encoded data removed]",
      "text/plain": [
       "<Figure size 432x288 with 1 Axes>"
      ]
     },
     "metadata": {
      "needs_background": "light"
     },
     "output_type": "display_data"
    }
   ],
   "source": [
    "import seaborn as sns\n",
    "\n",
    "sns.distplot(variation(ccle, axis=1))\n",
    "sns.distplot(variation(gdsc, axis=1))"
   ]
  },
  {
   "cell_type": "code",
   "execution_count": 13,
   "metadata": {},
   "outputs": [
    {
     "data": {
      "text/plain": [
       "<matplotlib.collections.PathCollection at 0x2466e4bbda0>"
      ]
     },
     "execution_count": 13,
     "metadata": {},
     "output_type": "execute_result"
    },
    {
     "data": {
      "image/png": "[encoded data removed]",
      "text/plain": [
       "<Figure size 432x288 with 1 Axes>"
      ]
     },
     "metadata": {
      "needs_background": "light"
     },
     "output_type": "display_data"
    }
   ],
   "source": [
    "import matplotlib.pyplot as plt\n",
    "plt.scatter(ccle.mean(axis=1),  gdsc.mean(axis=1) )"
   ]
  },
  {
   "cell_type": "code",
   "execution_count": 14,
   "metadata": {
    "scrolled": true
   },
   "outputs": [],
   "source": [
    "# subtract mean of each gene to correct for bias arising from genes with too large or small scale\n",
    "#(dur to which ED will be dominated by large scale genes and corr will always be high bcz some genes have low scale some have high)\n",
    "ccle=ccle.sub ( ccle.mean(axis=1) , axis=0)\n",
    "gdsc=gdsc.sub ( gdsc.mean(axis=1) , axis=0)"
   ]
  },
  {
   "cell_type": "code",
   "execution_count": 15,
   "metadata": {},
   "outputs": [],
   "source": [
    "#list of distances between mutation profiles of ccle CLs and gdsc CLs\n",
    "corr_l=[] \n",
    "euc_l=[] \n",
    "cos_l=[]\n",
    "for col in ccle.columns:\n",
    "    corr_l.append(1-distance.correlation(ccle[col], gdsc[col])) #simi\n",
    "    cos_l.append(1-distance.cosine(ccle[col], gdsc[col]))#simi\n",
    "    euc_l.append(distance.euclidean(ccle[col], gdsc[col]))#dist  \n",
    "    \n",
    "euc_l=f.scaler(np.array(euc_l), min(euc_l), np.max(euc_l), 0, 1)\n",
    "euc_l=1-euc_l"
   ]
  },
  {
   "cell_type": "code",
   "execution_count": 16,
   "metadata": {},
   "outputs": [],
   "source": [
    "plotting_df=pd.DataFrame()\n",
    "\n",
    "#plotting_df['Standard cell line name']=list(area_df.index.values)\n",
    "# unique key: area_df.index\n",
    "############\n",
    "## median area or mae for each CL can be calculated later in plots script by grouping plotting_df\n",
    "#plotting_df[area_colname]=area_df[area_colname] #dont put so that its not used further as taking mean of AAA across CLS would results in lossof info\n",
    "#plotting_df[mae_colname]=area_df[mae_colname]\n",
    "plotting_df['correlation']=corr_l\n",
    "plotting_df['euclidean']=euc_l\n",
    "plotting_df['cosine']=cos_l\n",
    "\n",
    "plotting_df['med GE ccle']=list( ccle.median())\n",
    "plotting_df['med GE gdsc']=list( gdsc.median())\n",
    "plotting_df.index=ccle.columns\n",
    "#plotting_df['Metrics to measure distance between mutation profiles']=0*len(plotting_df)"
   ]
  },
  {
   "cell_type": "code",
   "execution_count": 17,
   "metadata": {},
   "outputs": [],
   "source": [
    "\n",
    "plotting_df=FM.merge(plotting_df,left_index=True, right_index=True)\n",
    "plotting_df['Standard cell line name'] = plotting_df.index\n",
    "\n",
    "\n",
    "if(high_dispersion_genes):\n",
    "    plotting_df.to_csv('../data_processed/InconsistencyFactorAnalysis/expression_anaysis_withHighDispGenes.csv', index=False)\n",
    "\n",
    "#else:\n",
    "    #plotting_df.to_csv('Files/InconsistencyFactorAnalysis/expression_anaysis.csv')"
   ]
  }
 ],
 "metadata": {
  "kernelspec": {
   "display_name": "Python 3",
   "language": "python",
   "name": "python3"
  },
  "language_info": {
   "codemirror_mode": {
    "name": "ipython",
    "version": 3
   },
   "file_extension": ".py",
   "mimetype": "text/x-python",
   "name": "python",
   "nbconvert_exporter": "python",
   "pygments_lexer": "ipython3",
   "version": "3.7.3"
  }
 },
 "nbformat": 4,
 "nbformat_minor": 2
}
